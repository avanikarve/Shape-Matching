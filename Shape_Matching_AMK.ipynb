{
 "cells": [
  {
   "cell_type": "markdown",
   "metadata": {},
   "source": [
    "### Shape Matching Algorithm (Scale and Rotation Invariant) using distances from Centroid"
   ]
  },
  {
   "cell_type": "code",
   "execution_count": 1,
   "metadata": {},
   "outputs": [],
   "source": [
    "import os\n",
    "import numpy as np\n",
    "import cv2\n",
    "import math"
   ]
  },
  {
   "cell_type": "code",
   "execution_count": null,
   "metadata": {},
   "outputs": [],
   "source": [
    "# File Path\n",
    "reference_dir = "File Path",
    "reference_files = ['A.png', 'B.png', 'C.png', 'D.png', 'E.png']\n",
    "test_image_file = 'testD.png'\n",
    "\n",
    "# Parameters\n",
    "ntheta = 360  # number of angles sampled for radial profile"
   ]
  },
  {
   "cell_type": "markdown",
   "metadata": {},
   "source": [
    "**load_and_binarize_image(path)**\n",
    "\n",
    "* Loads an image, converts it to grayscale, and binarizes it using a fixed threshold."
   ]
  },
  {
   "cell_type": "code",
   "execution_count": null,
   "metadata": {},
   "outputs": [],
   "source": [
    "# Load and Binarize Image\n",
    "def load_and_binarize_image(path):\n",
    "    img = cv2.imread(path)  \n",
    "    if img is None:\n",
    "        raise FileNotFoundError(f\"Could not load image: {path}\")\n",
    "    \n",
    "    # Grayscale Conversion using luminosity method\n",
    "    gray = 0.2989 * img[:, :, 2] + 0.5870 * img[:, :, 1] + 0.1140 * img[:, :, 0]\n",
    "\n",
    "    # Thresholding\n",
    "    binary = np.where(gray > 127, 1, 0).astype(np.uint8)\n",
    "    return binary"
   ]
  },
  {
   "cell_type": "markdown",
   "metadata": {},
   "source": [
    "**detect_edges(binary)**\n",
    "\n",
    "Purpose: Detect the edges of the binary image using a 8-connected neighborhood.\n",
    "\n",
    "Explanation:\n",
    "\n",
    "* Iterates through each pixel in the binary image (ignoring borders).\n",
    "\n",
    "* If a pixel is foreground (1) and any of its 8 neighbors is background (0), it’s considered an edge.\n",
    "\n",
    "* Returns an image with edge pixels marked as 1."
   ]
  },
  {
   "cell_type": "code",
   "execution_count": null,
   "metadata": {},
   "outputs": [],
   "source": [
    "# Edge Detection \n",
    "def detect_edges(binary):\n",
    "    edges = np.zeros_like(binary)\n",
    "    for i in range(1, binary.shape[0] - 1):\n",
    "        for j in range(1, binary.shape[1] - 1):\n",
    "            if binary[i, j] == 1:\n",
    "                if np.any(binary[i-1:i+2, j-1:j+2] == 0):\n",
    "                    edges[i, j] = 1\n",
    "    return edges"
   ]
  },
  {
   "cell_type": "markdown",
   "metadata": {},
   "source": [
    "**centroid(edge_img)**\n",
    "\n",
    "* Finds the average (mean) x and y coordinates of all edge pixels to get the center of the shape."
   ]
  },
  {
   "cell_type": "code",
   "execution_count": null,
   "metadata": {},
   "outputs": [],
   "source": [
    "# Centroid\n",
    "def centroid(edge_img):\n",
    "    points = np.argwhere(edge_img == 1)\n",
    "    y_coords, x_coords = points[:, 0], points[:, 1]\n",
    "    xc = np.mean(x_coords)\n",
    "    yc = np.mean(y_coords)\n",
    "    return xc, yc"
   ]
  },
  {
   "cell_type": "markdown",
   "metadata": {},
   "source": [
    "**polar_distances(edge_img, xc, yc, ntheta=360)** \n",
    "\n",
    "Purpose: Compute a rotation-invariant radial profile from the centroid.\n",
    "\n",
    "Detailed Explanation:\n",
    "\n",
    "* The image is scanned radially in ntheta directions (default: 360) from the centroid (xc, yc).\n",
    "\n",
    "* For each angle theta, a ray is cast outward pixel by pixel:\n",
    "\n",
    "    (x, y) = point on the ray = (xc + r * cosθ, yc + r * sinθ)\n",
    "\n",
    "    Increments radius r until it hits an edge pixel (1) or exits image bounds.\n",
    "\n",
    "* If an edge is found in that direction, distance r is recorded. If no edge is found, distance 0 is recorded.\n",
    "\n",
    "* We get a 1D profile of distances from center to boundary across all angles.\n",
    "\n",
    "* We then compute mean and standard deviation of distances and normalize to ensure scale invariance:\n",
    "\n",
    "```math\n",
    "\\text{normalized}[i] = \\frac{\\text{distance}[i] - mean}{std}\n",
    "```\n",
    "​\n",
    " \n",
    "* The function returns a normalized array of radial distances — a scale-invariant shape descriptor.\n",
    "\n"
   ]
  },
  {
   "cell_type": "code",
   "execution_count": 2,
   "metadata": {},
   "outputs": [],
   "source": [
    "# Radial Distance Profile \n",
    "def polar_distances(edge_img, xc, yc, ntheta=360):\n",
    "    rows, cols = edge_img.shape\n",
    "    angles = np.linspace(0, 2 * np.pi, ntheta, endpoint=False)\n",
    "    distances = []\n",
    "\n",
    "    for theta in angles:\n",
    "        dx = math.cos(theta)\n",
    "        dy = math.sin(theta)\n",
    "        r = 0\n",
    "        found = False\n",
    "\n",
    "        while True:\n",
    "            x = int(round(xc + r * dx))\n",
    "            y = int(round(yc + r * dy))\n",
    "\n",
    "            if x < 0 or x >= cols or y < 0 or y >= rows:\n",
    "                break\n",
    "\n",
    "            if edge_img[y, x] == 1:\n",
    "                distances.append(r)\n",
    "                found = True\n",
    "                break\n",
    "            r += 1\n",
    "\n",
    "        if not found:\n",
    "            distances.append(0)\n",
    "\n",
    "    distances = np.array(distances)\n",
    "    mean = np.mean(distances)\n",
    "    std = np.std(distances) if np.std(distances) != 0 else 1\n",
    "    normalized = (distances - mean) / std\n",
    "    return normalized"
   ]
  },
  {
   "cell_type": "markdown",
   "metadata": {},
   "source": [
    "**rotation_invariant_distance(ref, test)**\n",
    "\n",
    "Purpose: Compare two radial profiles in a rotation-invariant way.\n",
    "\n",
    "Explanation:\n",
    "\n",
    "* Tries all circular shifts of the test profile (simulate rotation).\n",
    "\n",
    "* For each shift, calculates the sum of absolute differences with the reference profile.\n",
    "\n",
    "* Returns the minimum distance, which corresponds to the best alignment.\n",
    "\n",
    "* Ensures rotation invariance."
   ]
  },
  {
   "cell_type": "code",
   "execution_count": null,
   "metadata": {},
   "outputs": [],
   "source": [
    "# Rotation-Invariant Distance Comparison \n",
    "def rotation_invariant_distance(ref, test):\n",
    "    min_dist = float('inf')\n",
    "    for shift in range(len(test)):\n",
    "        shifted = np.roll(test, shift)\n",
    "        dist = np.sum(np.abs(ref - shifted))  # sum of absolute differences\n",
    "        if dist < min_dist:\n",
    "            min_dist = dist\n",
    "    return min_dist"
   ]
  },
  {
   "cell_type": "markdown",
   "metadata": {},
   "source": [
    "**classify_by_radial_profile(test_path, ref_dir, ref_files, ntheta=360)**\n",
    "\n",
    "Purpose: Classify a test shape by comparing it to known reference shapes using radial profiles.\n",
    "\n",
    "Explanation:\n",
    "\n",
    "* Test Shape: Loads and binarizes test image. Detects its edges. Finds centroid and computes its normalized radial profile.\n",
    "\n",
    "* Reference Shapes: Loops over each reference image. Computes its edge image, centroid, and radial profile. Compares profiles using rotation_invariant_distance.\n",
    "\n",
    "* Matching: The reference shape with minimum distance is the predicted match. Logs each distance and final predicted shape.\n",
    "\n",
    "* Returns the best match"
   ]
  },
  {
   "cell_type": "code",
   "execution_count": null,
   "metadata": {},
   "outputs": [],
   "source": [
    "# Shape Classification \n",
    "def classify_by_radial_profile(test_path, ref_dir, ref_files, ntheta=360):\n",
    "    # Process test image\n",
    "    test_binary = load_and_binarize_image(os.path.join(ref_dir, test_path))\n",
    "    test_edges = detect_edges(test_binary)\n",
    "    txc, tyc = centroid(test_edges)\n",
    "    test_dist = polar_distances(test_edges, txc, tyc, ntheta)\n",
    "\n",
    "    # Compare with references\n",
    "    best_match = None\n",
    "    min_dist = float('inf')\n",
    "\n",
    "    print(f\"\\n🔍 Comparing Test Image: {test_path} with rotation-invariant matching using {ntheta} angles...\\n\")\n",
    "    for fname in ref_files:\n",
    "        ref_binary = load_and_binarize_image(os.path.join(ref_dir, fname))\n",
    "        ref_edges = detect_edges(ref_binary)\n",
    "        rxc, ryc = centroid(ref_edges)\n",
    "        ref_dist = polar_distances(ref_edges, rxc, ryc, ntheta)\n",
    "\n",
    "        dist = rotation_invariant_distance(ref_dist, test_dist)\n",
    "        print(f\"{fname:<10s} --> Min Distance: {dist:.4f}\")\n",
    "\n",
    "        if dist < min_dist:\n",
    "            min_dist = dist\n",
    "            best_match = fname\n",
    "\n",
    "    print(f\"\\n✅ Predicted Shape: {best_match}\")\n",
    "    return best_match"
   ]
  },
  {
   "cell_type": "code",
   "execution_count": 1,
   "metadata": {},
   "outputs": [],
   "source": [
    "import matplotlib.pyplot as plt"
   ]
  },
  {
   "cell_type": "code",
   "execution_count": 10,
   "metadata": {},
   "outputs": [
    {
     "name": "stdout",
     "output_type": "stream",
     "text": [
      "\n",
      "🔍 Comparing Test Image: testD.png with rotation-invariant matching using 360 angles...\n",
      "\n",
      "A.png      --> Min Distance: 103.6646\n",
      "B.png      --> Min Distance: 123.1016\n",
      "C.png      --> Min Distance: 59.3058\n",
      "D.png      --> Min Distance: 22.7981\n",
      "E.png      --> Min Distance: 104.7155\n",
      "\n",
      "✅ Predicted Shape: D.png\n"
     ]
    },
    {
     "data": {
      "image/png": "iVBORw0KGgoAAAANSUhEUgAAA9MAAAGUCAYAAAA2z3G4AAAAOnRFWHRTb2Z0d2FyZQBNYXRwbG90bGliIHZlcnNpb24zLjEwLjAsIGh0dHBzOi8vbWF0cGxvdGxpYi5vcmcvlHJYcgAAAAlwSFlzAAAPYQAAD2EBqD+naQAAjOBJREFUeJzt/Qd8XPd14H2fe+8UdIC9915FUr0XF1mWi1zjFrc48bokTvObbPImTtt1Nrt+HmdT7GySdYsdd1uWrWJVq1OiREmk2HvvAIg25Zbnc86dAWcAUOSQANF+3xghCQzIAQXOved/mhNFUSQAAAAAAOC8uef/UAAAAAAAoAimAQAAAACoEME0AAAAAAAVIpgGAAAAAKBCBNMAAAAAAFSIYBoAAAAAgAoRTAMAAAAAUCGCaQAAAAAAKkQwDQAAAABAhQimAQAAAACoEME0Rj3Hcc7r7bHHHrvoP6uzs1P+4i/+4rx/L32c/tk//OEPL/rPBgAAANB/Ev34ewHD0re+9a2yX3/zm9+UBx98sNf7lyxZ0i/B9F/+5V/az2+55ZaL/v0AAAAADA6CaYx6H/rQh8p+/eyzz1ow3fP9AAAAAFBEmTdwHsIwlC9/+cuybNkyqaqqkkmTJsknP/lJaW5uLnvcunXr5Pbbb5fx48dLdXW1zJkzRz7+8Y/bx/bs2SMTJkywn2t2ulg+rmXfldDH6+dt27bNAv7Gxkb7ff/sz/5MoiiS/fv3y9vf/nZpaGiQyZMny5e+9KWyz8/lcvLnf/7ncvnll9vn1tbWyo033iiPPvporz/r5MmT8uu//uv2ezU1NclHPvIRefnll+3P//rXv1722C1btsi73/1uGTt2rP0dXXHFFfKzn/2soq8NAAAAGC7ITAPnQQNnDR4/9rGPye/8zu/I7t275R//8R9l/fr18tRTT0kymZRjx47JG9/4Rgts//iP/9iCTw2gf/zjH9vvoe//yle+Ip/61KfkHe94h7zzne+0969cufKCntOv/dqvWen53/7t38ovfvEL+Zu/+RsLZP/lX/5FbrvtNvkf/+N/yLe//W35wz/8Q7nyyivlpptuss87ffq0/Nu//Zu8//3vl9/8zd+UtrY2+fd//3c7BHjuuedk1apV3QcIb33rW+19+pwXL14sd999twXUPb366qty/fXXy7Rp0+xr1wD9+9//vtx1113yox/9yL5eAAAAYESJAJT5zGc+E5X+03jiiSfs19/+9rfLHnf//feXvf8nP/mJ/fr5558/6+99/Phxe8wXvvCF83oujz76qD3+Bz/4Qff79HP1fb/1W7/V/T7f96Pp06dHjuNEf/u3f9v9/ubm5qi6ujr6yEc+UvbYbDZb9ufo4yZNmhR9/OMf737fj370I/tzvvzlL3e/LwiC6LbbbrP3f+1rX+t+/+te97poxYoVUSaT6X5fGIbRddddFy1YsOC8vlYAAABgOKHMGziHH/zgB1YO/YY3vEFOnDjR/aZl0nV1dd3l0ZqJVj//+c8ln88P+PP6xCc+0f1zz/OsrFrLvH/jN36j+/36nBYtWiS7du0qe2wqlerOPp86dUp837fPf/HFF7sfd//991vGXbPXRa7rymc+85my56Gf/8gjj8h73/tey3IX/360RFyz3du3b5eDBw8O2N8DAAAAMBgIpoFz0GCwtbVVJk6caKXapW/t7e1W3q1uvvlmede73mX90NozrX3LX/va1ySbzQ7I85o5c2bZrzXg115l/bN7vr9nb/c3vvENKy/Xx48bN86+Fi0V16+zaO/evTJlyhSpqakp+9z58+eX/XrHjh0WxGvPds+/ny984Qv2mOLfEQAAADBS0DMNnINmbzWQ1v7jvhSHihX3Qes08HvuuUceeOABGz6mA8D0fZrF7k+aYT6f9ykNdov+4z/+Qz760Y9aP/PnP/95+9r08774xS/Kzp07L+jvR2lvtmai+9IzAAcAAACGO4Jp4BzmzZsnDz30kA3Y0gnd53LNNdfY23/7b/9NvvOd78gHP/hB+e53v2tl2RpwDzYN+OfOnWuD0UqfTzGLXDRr1iwrYdfd2KXZac1El9LfS2lJ+Otf//oBf/4AAADAUECZN3AO2gscBIH89V//da+Paa9xS0uL/VxLqUszwKo4GbtY6l0MSoufMxiK2evS57p27Vp55plnyh6nWWbt/f7Xf/3Xsiz0P/3TP5U9TjPbt9xyi00RP3z4cK8/7/jx4wPwVQAAAACDi8w0cA7aC62rsbQM+qWXXrL1V5qF1V5qHU7293//97ZfWfuQ//mf/9nWQGk2W4dxaSCqO5rf/OY32++lme2lS5fK9773PVm4cKGtslq+fLm9XSpvectbLCutz/POO++0NV9f/epX7XlpD3iRloFfddVV8gd/8AeWjdbVWLo3WgeOqdKstgbYN9xwg6xYscIGlmm2+ujRoxagHzhwwHZTAwAAACMJwTRwHjTY1Ondmn39kz/5E0kkEjJ79mz50Ic+ZOXfxaBbdzJrSbcGkjr4S4NR7bWeM2dO9++lO55/+7d/W37v935PcrmclVdfymBa+6WPHDliX4v2dWsQrX3UejDw2GOPlWWwdSjZ5z73OTso0EneGoDr89WvWYeXFenvsW7dOhu+pvu4dZK3ZqxXr14tf/7nf37JvjYAAADgUnF0P9Yl+9MADHs//elPLah+8sknuw8SAAAAgNGGYBrAWXV1dZUNXdPecS1z1yy0ZrfPZyAbAAAAMBJR5g3grLQcXQPqa6+91oaoaa/1008/Lf/9v/93AmkAAACMamSmAZyVrvbSPdk6gCyTydi+6E996lPy2c9+drCfGgAAADCoCKYBAAAAAKgQe6YBAAAAAKgQwTQAAAAAABUimAYAAAAAoEIE0wAAAAAAVIhgGgAAACPO7Nmz5aMf/Wj3rx977DFxHMd+HKrPcbjSv1c2fWA0IpgGAABAv/r6179uAVbxraqqShYuXGgB19GjR2U4uffee+Uv/uIvBvU5FP8eP/GJT/T58T/90z/tfsyJEyeG5dcIDEcE0wAAABgQf/VXfyXf+ta35B//8R/luuuuk6985Sty7bXXSmdn5yV/LjfddJN0dXXZj5UGmn/5l38pg00PJH70ox9JLpfr9bH//M//tI9fqKHyNQLDDcE0AAAABsQdd9whH/rQhyyjqtnq3/3d35Xdu3fL3XfffdbP6ejoGJDn4rquBZz643D0pje9SU6fPi333Xdf2fuffvpp+zu98847B+25AaPV8Hw1AQAAwLBz22232Y8a/CntF66rq5OdO3fKm9/8Zqmvr5cPfvCD9rEwDOXLX/6yLFu2zILgSZMmySc/+Ulpbm4u+z2jKJK/+Zu/kenTp0tNTY3ceuut8uqrr/b6s8/WM7127Vr7s8eMGSO1tbWycuVK+fu///vu5/dP//RP9vPSsvWi/n6Or2XatGmWVf/Od75T9v5vf/vbsmLFClm+fHmvz3niiSfkPe95j8ycOVPS6bTMmDFDfu/3fs8y9EXn8zXq34f+Gfo1TpgwwQL7devW9frzfvrTn9rz0D9L/07uv//+ir5GYLhJDPYTAAAAwOigQbMaN25c9/t835fbb79dbrjhBvlf/+t/WbCpNCjVbPbHPvYx+Z3f+R0LwLVcfP369fLUU09JMpm0x/35n/+5BaoaEOvbiy++KG984xv7LIfu6cEHH5S3vOUtMmXKFPnc5z4nkydPls2bN8vPf/5z+7U+h0OHDtnjtFy9p0vxHEt94AMfsOfV3t5uhxD6d/eDH/xAfv/3f18ymUyvx+vHtKT+U5/6lP2dP/fcc/IP//APcuDAAftY8Wt4ra/xN37jN+xr1CoDrTDQP1OD9GeffVauuOKK7sc9+eST8uMf/1g+/elP26HI//7f/1ve9a53yb59+8r+ewMjSgQAAAD0o6997WuR3mY+9NBD0fHjx6P9+/dH3/3ud6Nx48ZF1dXV0YEDB+xxH/nIR+xxf/zHf1z2+U888YS9/9vf/nbZ+++///6y9x87dixKpVLRnXfeGYVh2P24P/mTP7HH6e9f9Oijj9r79Efl+340Z86caNasWVFzc3PZn1P6e33mM5+xz+tpIJ7j2ejj9HmcOnXKfq9vfetb9v5f/OIXkeM40Z49e6IvfOEL9jj9+y7q7Ozs9Xt98YtftM/Zu3fvOb/GRx55xN7/O7/zO70+Vvq16GP0ee3YsaP7fS+//LK9/x/+4R/O+fUBwxVl3gAAABgQr3/9660sWMuL3/e+91k29Sc/+YmVLJfSzGkpzZo2NjbKG97wBptOXXy7/PLL7fd49NFH7XEPPfSQZXd/+7d/u6w0WXuzz0Wzx5pJ1sc2NTWVfaz09zqbS/Ece9JSdC2x1oFjSku+dbDbrFmz+nx8dXV1WS+6Pj99vMa/+vWfiw480+f8hS98odfHev4d6X/refPmdf9ay+UbGhpk165dFX2NwHBCmTcAAAAGhPbi6kqsRCJh/cSLFi3qNQBMP6a9xKW2b98ura2tMnHixD5/32PHjtmPe/futR8XLFhQ9nEN4DXwPJ+S8756jc/HpXiOZyv1/vVf/3Urn9Ye5b/7u78762P1MVpi/rOf/axXH7c+93PRv6OpU6fK2LFjz/lY7cvuSb++nn8uMJIQTAMAAGBAXHXVVWV9tX3RYVU9A2wdeqVBqg7X6osGooNtsJ7j2972Nvs7+8hHPiLZbFbe+9739vm4IAgsa37q1Cn5oz/6I1m8eLENWDt48KANHdPn3588z+vz/XEVODAyEUwDAABgSNFyYS2Pvv7668tKlXsqljdrlnju3Lnd7z9+/Pg5M6LFkuSNGzdaifLZnK3k+1I8x77on3XXXXfJf/zHf9hQsPHjx/f5uA0bNsi2bdvkG9/4hnz4wx/ufr8OGqvka3zggQcsID+f7DQw2tAzDQAAgCFFs62aWf3rv/7rXh/TadItLS32cw2CdWK2TqguzYDquqpzWbNmjcyZM8ceW/z9ikp/L83mqp6PuRTP8Wz+8A//0PqY/+zP/uycmeLSP1N/Xlz7VepsX6NO49bP+cu//Mten0PGGSAzDQAAgCHm5ptvtpVNX/ziF+Wll16yNVIakGp2Vwd/aUD47ne/20qpNbDUx+mKK107pYO17rvvvrNmbIu0tPwrX/mKvPWtb5VVq1bZeitdkbVlyxbbAa0ZWaUDxZSuvtIVXhqk6jC1S/Ecz+ayyy6zt9eiZd2aWdY/W0u7dRiYDhTrKxt+tq9R92Frf7auudKvS4efaXm4rsbSj332s5+9oOcPjBQE0wAAABhyvvrVr1qQ9y//8i/yJ3/yJzaobPbs2fKhD33ISquLdH9zVVWVPV4naF999dXyy1/+Uu68885z/hkaOOrnaOb1S1/6kgWKGoD+5m/+Zvdj3vnOd9ok7u9+97tWWq0ZWQ00L9VzvFAa2N9zzz0WIGsgr3/+O97xDguAewbir/U1fu1rX7PJ3P/+7/8un//8522CufbB61RwYLRzdD/WYD8JAAAAAACGE3qmAQAAAACoEME0AAAAAAAVIpgGAAAAAKBCBNMAAAAAAFSIYBoAAAAAgAoRTAMAAAAAUCGCaQAAAAAAKkQwDQAAAABAhQimAQAAAACoEME0AAAAAAAVIpgGAAAAAKBCBNMAAAAAAFSIYBoAAAAAgAoRTAMAAAAAUCGCaQAAAAAAKkQwDQAAAABAhQimAQAAAACoEME0AAAAAAAVIpgGAAAAAKBCBNMAAAAAAFSIYBoAAAAAgAoRTAMAAAAAUCGCaQAAAAAAKkQwDQAAAABAhQimAQAAAACoEME0AAAAAAAVIpgGAAAAAKBCBNMAAAAAAFSIYBoAAAAAgAoRTAMAAAAAUCGCaQAAAAAAKkQwDQAAAABAhQimAQAAAACoEME0AAAAAAAVIpgGAAAAAKBCBNMAAAAAAFSIYBoAAAAAgAoRTAMAAAAAUCGCaQAAAAAAKkQwDQAAAABAhQimAQAAAACoEME0AAAAAAAVIpgGAAAAAKBCBNMAAAAAAFSIYBoAAAAAgAoRTAMAAAAAUCGCaQAAAAAAKkQwDQAAAABAhQimAQAAAACoEME0AAAAAAAVIpgGAAAAAKBCBNMAAAAAAFSIYBoAAAAAgAoRTAMAAAAAUCGCaQAAAAAAKkQwDQAAAABAhQimAQAAAACoEME0AAAAAAAVIpgGAAAAAKBCBNMAAAAAAFSIYBoAAAAAgAoRTAMAAAAAUCGCaQAAAAAAKkQwDQAAAABAhQimAQAAAACoEME0AAAAAAAVIpgGAAAAAKBCBNMAAAAAAFSIYBoAAAAAgAolKv0E4FKIokgk0p+E+guRMDrzc3t/JPp/xZ/3Gyf+f47nijiOiKs/uiKeG3/IPtz9MwAAAACjFME0hiY/EPHzErV3SNjWYT/aWyYjUS4nUSYnks9LlM2K5P3++TM1RnY9cdIpcSeME6e6WpxxY8StqRF30oQ4sHYJpAEAAAAQTGNIZKAjEd+XKJuzIDrK50SyOYm6MhK1tUt4us1+tDd9XzYrUSYrkQbTmUz/BdPK02A6LW5buzg11fZjVFdrz0+SCZF0ShzPE0kmxUkkRFLJOArX/5GxBgAAAEYNgmkMriAUyefE33dQ8i9vlHD/QfG37pTw5CkJjh4rZKh9e1wUBnG5d2nJt/086tcSbyvj1sDZdcVJaOCcEre+TpymBvFmTRdv4gRJLJov7pRJkli8QJxUyoJsAAAAAKMHwTQGRVTIREednRKdbJFgzz4JduyWYN8B8bftsGA6PHq8f4PlC+V5ElZXidvYEGfFW9vsfV5XRpzqKnFqasRpqLOMtv7agnDNXgMAAAAYsZzI6myBSys4dkL8jZslv3GzZO95QMK2NglPtRT6oHMigWakAxkytFfaLZZ3x33VUpUWp65OvBlTJbl4oSSWL5bU1ZeL01Afv1H2DQAAAIxYZKZxaXujc3kJW09LeOiw+Dt2SbBzt/i794noYLGujAxZVl7ux73d+vW0xRlrSTXbAYCTTFpw7Y5psuFlOrDMMtbV1RaIOzq8DAAAAMCIQWYal0QUhhaI+rv2SPbu+8TfuUdyjz8TDxTr7CqsvBqG34qafdZMdSGY1jLvxJKFklyx1LLUyStWx6XgVenBfqYAAAAA+hGZaVyCIDqw3ujg8NE4E71zjwT7DlpftGV8+5JKxoO9ij+6Z/Y+W/m0ll3rj148KOwcz+JMsK7P51xBu35cB55pqXkuH/d369Rw/XXPyeH62Lwvkb5fDwZaT0tQV2vrtPwxTeLU1oo7cby4Y5viTDVBNQBgiLJZJtpqpSso9XoZBBJ1dNh10NhGjZxE2oal10T9uK6t1J8XP66fW3z8a7CNGImEbc6wOSO6TaOuNj6AbqwXt6lRnNoaa6eibQrAUEVmGgNKL7rhyWbxt2yTjn/5ug0VC3bttbVWGqj2UgiU3amTJTFrhrjTpog3Y1ohu1tlQ74knYyHfaVS4ujFtqbmHE8iEtHBYYFvF327AXith2twrOu42ju6g/785m32vvDIsXMH43qDkEzEE8Dr6yR9y/WSvGqNJFetkMT8Oefz1wYAQIUrJnXjReEgWAPh7rd4A0ZU3IShWzQKB8sWMJccMtvaSW250h9tdolv6ym1nck+3tEZV5Tpr/XQ2a6Xp+OtG/pxDaz1etvX9b0Hq+hKJu1aaRVeGlg3NlgA7Y4bE7dM1deLowfTulnD5pWk4xYrnV+iqyn1545DsA1g0JCZxoCwC7QG0qfbLJD2t+yQYP8hiZpbz5R1l9IMdHW1TcV2x44Rb8pk8TSYnjxBvCmTLJC2Hc/FbLX+XC+meqHVCdqv+WQkPmXXYFr/7HMF05pJb2+XqKPLfu+webxduDWYDiaOj28k9IZB+7zbOuIbkdLfU28q9AYkCMTp6JJg9754IJl+DX4gjt4k1NfGNwNM/QYAXAzNDus15+BhCVvbJDx23GaTSGeXDfbU655drzTD3N4pYctpidra7H3h6fb48DibjX8vuzRr0F36B5T++rU+Vji8rlRpIFz8uf5YOFzX675VeE2eKMnLlos3ZaJ4s2dKYukiu1/Q4BsABguZaQwIPd0ODh62QLr9S1+R8MQpCY8dO3Mi3oNmopNLFkny8pWSfsMt4oxpFHfcWBHPFUenaDvFi6xeYOXMj46Wf5/vk6qgL7u4kisM4tN8vVnpykh4qtnWd+XXvij+7r2SX/dSfFKvJ/d9sZ3VSXGSCfHmzhJv6hSpuuvNkrxiVeHUve48nzwAYLSyWzVtOerKSHDoiESnmu2wOjx8VMK2OCC2ADqTlbCjM84s63YMzTLrj3rIq21LerCcydphd3FFpVZuneuQeVBp+beVe9daQO1qKXhx2Gd9nQ38tOGfDfVWzaZrLB0NsnWOCcM/AQwwMtMYmIx0a6v4r24Rf9tOCY+fiIPNnv3GGmvqxXH82PiUeeVSSSyYaxdL65vSMukhULpVfAaRZpaTibiMrqVVnNpq+5iWgQcHj8Q3NC2t5UG7TTDP2Q1MePykBen+pq122u7NnS2e3gzoRb+muvCHDf7XCwAYCqXbcda5WJqtGWY90PU3bLJ2KQ2q/Zc3SnD8pF1n7bB6JNLDbM2e64HBoSPlH0unrIotMTtuC0uuXmmtYQn9u2tqiNuuLMtdeghfvM4W31+SCadkHECFyEyjX+kpd3DkqPjbdkn7F78cl5sdO9H71FuvVa4riWWLpeott1u5Vuqma+OBJBqw2mOG1kWtuy+tOJRFe8WyWfE3bZP8089Jfv0GyT61Nu4t6+PgoHuAWqH/O/W6G20/dfr2WyUxb048SE0HqwEARjULnNs7JffM8xLs3iv+5q3ib94W9y93ZuJMs16HcrnCILARGkifD71n0H5rbZvSFrDCYDNv1nRxGxvF0wN6LQXX9ZU2Z6U6HgiqPddaOVadFmfsWMto6+cMpfsOAEMfmWn0j+7hJRnxt2yXYPsuGzwWtbWXl3XbKql4yIg3c5okFs8Xb8Fc8aZOji9wQ/giZs+tEBDHQ8biASh6oY4WzpOoMAFcM9B6iGB91VpuVzYlPC4X1+Eswd4D9vtpL1jY3CrejKlxNl7/HvT3BwCMGlbd1NEpwf6Ddggdnjgp+Q2bJTx8RPy9+63FSKdln3ULxvmWTOvgL7dwuJtOxafb+uvC5gy71uk1SNusNEC1g143Dj4L2VybVVK8Xuv7XU8c/T0Kj9fWpnP1YEXFQwAtNy8MO7PNGIUNGlairqXpxRkl+uu+ytH1c/RwW3+ujy2+P5eXsK7Grse2SUOHltbWxuXf+mu9F0kUAvCGBnFra8WbPiUuKdeBpzrrRA+/9ZrcUNc9MG0o36cAuPTITKN/FNZJ+Xv2SdsX/tYCRX/H7u4JoN10eFhDgyRXLZeaj7/fBo0lFi84cwEeRhep7n86lqkOJdSBLs2tlknIPf60lXPr4LWzKqwC0SDaHT9Oaj70HkksW2Tl3/RSA8DI1vP2Sw+hgz37pOtHPxd/4xbxd+2xNqH+pBlZV8ufPVcknRZv/LjCAbEnzrix8URt/bke7GrwqS1IhYNj60MuHCi7UyZ2D9C0adv6WA3GNfjU4PQ82rTCLh2MlosD4K4uCXVAWmu8SSM8clSCI8dsgFqxpF3f1+cA0/6i9yB1tVY2roNP9d7EmzpJvJkzxFs0L+7FbmocmD97BBlO93FAfyD9hX6hp8k6STTYuz8+UW9uKT9BLgzi0qAxuWqZJJYsFG/qVNu/PFxPerufcyEodmtrJHQc8ebMkmR7R3wC3tgY3xRov7SuCindvVnY0Rlqn3UQSv6ljTZAJtHWEfeRT5tiE84tOzAM/34AAK8hiiSv/c87d0vuibVWzq3Bo15DdfJ2r8PonrQVqrrKrqs2hGvKJBvOZaXMY5viFVONDSIpXSWZjGeR2IqpxJlJ2ZpttVSzXqPj99v1ppiRLl5/ihVZxT/XMtoFxWt4IYN9vu1KFoAnkhaA66G0W8xO6486ayQbXzM10C6u7NLDBhsEeuio/Tw6eUr83fu6B61dFJ2HopUBu/ZIcPBQPN9EDwaqCtlpXcnZWB+XjWsme1xTXC5eOKCwnzfWl/2WFvzrcy9e+6MoHhSn2fQew1htf7d93dlzHhjYhHZd9XmRbCuKZunPtRWlBzvwr6qy7zX7fquvK9yzVFk5PTCakJlGv9CAMHP3/RLs2CWd3/5hPHCs9FtLX7AbGyS5ZqXUff6z3cHiSBr4UZapDkMr1QsOHJLMzx6Q7CNP2PRVK3vvi379hZVfqVtvlMScWVL93rfbIBXNHjiaRQAAjIyp3G3tduice/JZ8Tdvl9yjT1iAaMHX2ej6SFsjWRWvkkyn4inWujZqyqQ4mNHp1mObbBuGDfgc0yhOqlDiXF87fKdb2/7sMA6mdejngUMS7Nxrg9f8nbutl9w2a+jfnwWkcWBqu7dLD7Evhmbsa2vitjQNIgt/xxZMlx5elLDnpNPT9TnoXm99n64I9eM93WWP1f3cmqnPZs4rmNa1ZhfLvp+07L04BPV8P89K4KttgKp9jzXU2/2KJRG0TF770K0fXYPrqvjQRv+sEXCvB/REZhoXf2NQmDKqgXRclpYvvxDogXVTgySvWG0DxzSQtlPNYVbWXWmm2vrCg0CSq1fY6X6wY3dcqnb0eO/DBpv6nbc1XNYXl81J9olnrcQssXC+Xaj0pinuQwMADEthaKsis48+KdmfPyC5p5+PM4yvFTxZptiNZ4zoxOqVyyS5Yol4M6fbykW75hQfd+aTzn9t5HBgfdyeePPniDdvjiSvWlO2NUOvq9obnVv3kgT7Dll2WdvOdMNGeORY/zwHP7AydL+17cx08NLnd776K4fVX7/PxdyHlf496LecZufr6yW5ZKG40yZLcvni+L5PD3s0OTCC7vmAIjLTuPhVWJmsXbRaP/1565W27Gvpt5XeBKxcJvV/8nt2oqsDx6wUbIT31nRP/9Ydn3lfsg8/LvkXX5HcY0/aVNbuXdZnuXFyJ04Qd9wYqfnI+8WbN9uCcnqpAWB48nfvlWD/Icne+6DNFPF1UKcGen1lTmuqxa2rk+SKpRaUeHNmWjBiu5S1rHvcGHHq6qyseCRfR89X1KlZ6YwEuoqzuHf7dHtcMq0l0Zqt1iy1ZX/1Lc7+WjZYH9/cImFbR7zDu7U1Hh56MYPeRittI0im4uoIzVBr5lp77etrxZs00fry9XvXmz7VMtp2n6Nl4jbcDhieSHPh4gRBvONSs61aXpXVYSklF6CqtJ2k2w5I7TPS4R0jpKz7XPRrtL8JHeiia8BmTe9ereXOmCbBjj02rdWyEqW9XsVsvw5hkUhyz70o3sFDdsPlThhnPdnW46TZ71Hw9wgAw/pAtbDFQauT8q9sksxP7rWBlfH1soRVNemE7XRcwTVhgiSvu1KSSxZYi5ReP+MeZ/TU3bs8fmyfHw+L5d8dnfHUdL3uhkH8a72H0ZkvJ05ZuXNw+Kj1ZVuVnfZva4m5tW/p9bswgXyw81C2L7sfSvaL36P9xcrquyQ82CVlRez6fd3UFFdTzJgqyeVLxZ06WRLzM3ZvY+Xgtt7MPdOfr9WLw7UtAaMKmWlcFA2gc2tfsFP2ji/9k12USmnwl379TVbmU/PRD3QPphhNQWDZP7Eosl4vLfPr+s6PJf/CSza0LdKBJGejhw+1tZJ+021W0lfz/ndaZkL/LrnQAMDQfe23YVk790jn//225F9+VcIDh+JhWX3cenkL50li9kypuuvNklgwz9ZHFoOMsuFguPCDjdK3+APdQbK2WVk/u7ZcZTPib9tplQPWn33wiJWMBwcOS3jwkIRa6n2xA88ugvUl61T2i6GZee3n1nWd+j050EoG29n6Tw2cdXir9v2PHRNvM5k1PZ6kvnSxzQLwJk0Y+OcFXCQy07goOnXTTnEPH4lLqHrQk+LE4oXizZ45aqdSl37Nevl26+vtRDl17RU2FTT/ykYJDx+NJ5JqUN1jwqdd8HI5O7DQcrSsZiymTJbkVavjC6oOKCOoBoAhQwdiaSCmlUU2T+TVLWcquErYNO5xY20NU2LlUivl1sNnDSI0yLDJ2KPwujkg1+Fz/D0WP1rcea1BdjRhvHjTptqwOBv6pYNE9ecdXTZxPSq0cdkKM911rWXlPcuei7u9C3+KlTQXZquU0cdZmXTynP3udt2vcGhYn/TgQL+G813BZhPUIiur18qKeMBaxga+dQ+B0x8t89/7XqbY0lD65wX6uVot4PsSHDxsM3byW3bEZeBaJq5tDTpYT/9N6NA3/boZZoYhhGAaFyeft1N3f2dh8FgPTkOdJK+5wkq8xePbTelpsqdvU+6wC0v2oV+Jv22HRD+5V3zt09LT7p5ZCw2mX9ogfiolwZ69djjhTZtsQbXt9gQADJmNDho459a+KJ3/+s14hZO+tvekq6kaGwqVW++TxOqV4k0Yd8mfN8rZ/mzPk8SsGWd9jAbcuqFD+6w1cLQAsqNDwubW8gfqVGsNfHXqd3F7iU7C1unqVT3WUVWl4sfqju6hekBenKquO79b2yQ8dESCEyftsCHYva+wInWfBPsOWoBtSqsA+qKrz7q6xD9RXtmoE+jdmmpJXLZcvNkzJHnlahu+Z0F1U4NEWuZu5e5xUE1wjcFCdIOLYieJh7Ts6fCZPYpKy3hqqgpTqBttkMqImix6gbpf7PWi4joS6XTSubPsQqu9Rnoqa/um9eJ0srl3GZnupT7VYpntzM9/af1H6dtuskMLy1IP1QswAIxw1n/b0ipd3/ye+Fu2S/6VVyU8firOWvagA8USSxZK9QffY+Xcmv3sl0wjLg230APcUB/POCn2UmtWu8fjikNFizdB1hfs9LGPu7ireygHhcWp6lp+PX6sRDOnSVJL47UyUXvSrUQ+K5Hew5xqsQ0vts7s2Anxt+6w9511RWhP+byEbYG1w+U3brIVo/pvxK2tjSfbL5gniflzJHXtleLUaraaxAIGB8E0Lk7et9NInVJaFvgVVkPZRMfx4yyoRomSNVp6QyVa4rd0ke2f7PjXb4r/6ta4XKqvYFqHpZxqkeAb35PEvDnWW6eDPLzqahFiaQC4pPQgWQ8/da2hzsDI63qmvfsl3H+o957iVMoOQRNLF0py1QpbceWMGyNuzywlhv7BuK2qjG+jh3D42780s64/FgJXp7rvCo2obYr1mOs9oD9xgiUI9F5Qd4Rr9t4mqGvQrVnp9s647LvnQL7i8D4tGdfsvyYY9DYolbIy87DltP2+yu41tSR8wrg4468zZYbyoQRGFIJpXBAtcdIXRSv10Rc5HWJRUsLjpPWGYYZ4UyaPuH3S/X5RKrQh6Ymr4zqSvu1G65/LPzVBgiPHbI1Wrz2kWmrV1WV//5l7HrAsR9Udr4vLw7ScjAw1AFwSevCZe+wpydz7oOQef6b3esgCXWWlw5Xq/vCzkliywAaOASOR3Yton/OMaVI6f97uF9vabE2oDnbT9XD+K5ssc62/Pi/a9rZlu72pzq99x0ryk1eskqq33xGvkXuNEn2gvxFM48JoMK1TLg8etsERumu6TDotiTmzbJiK9R/hNdlhQ22NvaXveJ3twszU19nQMS2jt2EfQflUcN2dGR46LF0/uNuC7+Rly8WdHImnvw8AYMBYOWt7h2Qfe9Ju6nO/ejreUawDxnoE0hpUJFYskdQN10hy2SLLSDsNDRwyY0R6ze/rqiobsqar3nQ4berqKyQs7PW2qjsdaHuyWfy9Whp+UoKjxyTS1rae5fOlsjm7F7UEw6491lOtv3/y8lWS0DY63XNNggEDiGAaFyYIbb2TnibaXsEeLDM9Z6a406bEPUCobOp3IiGJ5UviwW1BPOEy99RzVtYkmZK1KtqrpUH1gUPS9cOfSWLebDuZtf5pfeNmDQD6d8hYV8YmF2smLffM8+K//Kpl2sqC6EL/q7Y46daG5OqVkr7pWkmsWMprM0YtR0vjk4m4La2ETRQ/fVqC3fttQ4y7aaytIXP21MfbYjLZeKCZloYXp6cXaSm4/nvUtz37rcXQVpfp+q0oEi/Syr+quPybSkkMAIJpXJAoLATTOlwlKBk8VhpM675ADaZt8AYqoTsYNYOh2Q+3sUGC/QdtYrplQ/QiUjyltRu7Lgu2Mz+9V5Irlkrq+qvF1fUbNdVWPm6/HxcPALh4YSjZx5+R/Lr10vWdH1sAYDf5PbPR2rPZ1Ci1n/yoJC5bJqmr1sQ9thwuA70lEuKMHSuJpiZJrFou6Tfeqjeadq+pvdLh0WM2nDX33Hrx9+y10nBL5PTRTqErRrXtIvf0c1YVUv22OyR5zeWSvuFqcXTdnAbZQD/iOwoXRvdLHzsuofZM6ylhT7rSYOpkcSeO5+bhYniu/T1qJqP6vXfZgBvtkdZdl5od6b6Q6AWno0OCfful6/t3S2LhPKl6+5tszYbtuQQAXBC7oe/otKnEWtKdffQpCXbvtQFLNiSydJ+u64q3YK4k5s6W5JoVkrx6jXhTJ4ukUxxqAmfR/W+j2BZYjE6iSJxxjv37SSaS4k6eZPN6/Gt2S3DwiJWF67/JSO+HemSrJRPYv93c8+ttUFmwbYckr7vK/j3q8FagvxBM48JoZlqnMh4/2Wcvi2ZWvQnjbbqirYDABdF+c2/ieInGNEn69tssmM49+4JdOMqGvunNXFfGevayv3xEolOnpOqNt8QXJg2mi4/jZg4AKhq2KTat+5TkX3hZMr/4peT1NVh7o3vSLRZVaUmuXCqp664qtNzUWo8ogAsMsmuqxdO3iRMkuWp5PD3/+EnJr98Qr5/Tqd4nT1lGWv+tntlrHfdT+y9vtEGu7q9qpDqft5kFuorOMtS6nkyHwXJvhIvgRNYABFRGX7hO/+l/iycqbt91ZgCZ59o0ae33bfrql2xNgZXv8ELVL5kR3WGaffBXliHJ/OReCVtayjPUunqlrla82bOk+q47xJs3R9Kvv8kONyyQ5r8DAJy3/Isv26rCzq9/V4LjJ+KqoB7bKzSI1oNj3cSQuuFqSd10rfVKayCtN+tc/4D+Y2GL9kkXe6hPt4u/74AF15kf3WNtcdpD3YvNMKizFV224/0D75LkssVx9R//RnERyEyjIsWzl0gHkJ1qtqC6bACZvljV1Yqr65m0rC1ZuhQBF0onUdqqiaq03bDpbm9bwaIXktIbOz+QqOW07TjNPvqkJNs6JH3TdRK5noh3ZhUXAOAs1zg9vGzvsIPi/NoXLJj2taxbs9Fa1l3CHT/WpgWndHrw1VfY1G6dJsy1DxgYFvhqkkaTBDXVIo2NtkFGkwVhc4vd//jbdkp47LgF2patVvrvWrPYubz4USS5J5612T/J1Sss6+1qP7XeJBFYo0IE06iclhjrrsDmVnthKi3z1hsILZ9xdb80K7H6n2ZAxmnpvCPVv3aX+Lv2SOaHP5OorXwPtWax/a077HAjc//DNgwuefllXCQA4Cy6C/VyeWup6fznf5f8ixss03U2iaXxqquaz/5G4RA5femeMDDa6T2N54g3ZaK4kydI6uo11u6W+dHPJfvw4+Jv2hrvfS+hh2LBzj3S+X++adWTmqFO33qDJK9cEw/M1T5t7pVQAYJpVCaKbJq09ex2dPbuG0skxB03VtwxjfRKD2SGWqd9X3OFTabM3vtQPHyjdBBcLhfvAa+qkvzLG0TCwPZQR/ovnv4gAOgtk7FWmq5v/UDyG7dI/rkXJWzrXS6qq3d0f63OsUheuVq8GVPFra9n2CMw2HRez6QJUvWut0rqmiviwPqe+63KJNi2s/yxQWA7rTM/vMfW23kL50nNxz4QV5s01A/WV4BhiGAalQlCe3GynpRcebmbclLJeCXWdB3uQDA9YJJJScyaYaX01e95u/h79kn2wcfO9K4XhMdPxD3WBw93f46unSBDDQBnMtJRZ6eEx05IsGO35LS0e+sOe/0so61L1dW2LUF7LXXImPZeumObBuupAyiwJIG+6b/R2TMknDhevDkzbeuM3pvqMDLdQqOVJ1ZRqZUouZyVheu//+D4SUldsUq8ObNEZs8Qp6aG4YE4LwTTqIzu/Ws9LdGplj73S1tmemyTuE2NlkXFwNAXeEdv4FxHkmtW2k5p66HOla9psXUuOiBOHPFnz7KLTUL3V3uJsv3fZKoBjFpBEO+wfewp6fr6dyXU4UXFPssSehip/ZU1v/2b4k2bYvNBOJgEhianusreaj79cQkOHLKDsva/+98S7NlvvdKldDq4Ddb9/T+T5LVXSvWH3iWpq+PqP+BcCKZReWb66HEJDh+RKNf7ZsN6pmdOF3f6FHqmLwE9OU1escr2edvFwlZnrSsv+dYLxeEjkvnFg+Jv1kE6+yS5bJGkbrw2Xg3BySuAUcrfsVv8nbttO4K/c5eE7R3l6x61taam2noqEyuWSvLyleJNmRTfqHNgDAyL3dXafqirRms+8etW8p176jnxt+2w2T9nVoxGEuq8mVe3SOc3vy/hsZOSWDBXkletif+tc3CGsyCYRmW0HK6tQ0Ld59fHfmlbzTSmUdyGBnqmLwErq5862V7ktdzQ9py+8IpNWy/LULd3SLBjl5UySeTYoYcOJHOqqkQS1VbmSHYawKi5joWRRJku8XfEN9bZXz4SDyoKS1Ze6XyJ2hpbpZO69UZJrlpmsycADC86HDCqrZGqt9xuwbRW8em/9yDv2/1Rd0Cdj4cP6psOE9RKzMSiBfHUcC0VZ+YM+kAwjYpEOrDh8BEJ9x+SKJ8r/6DrWE+ZN3mSZUpLy4gxsHTgmw7DScyZZf3s4eGjthqiNKBWOmwjv/4VCVtbrbogdfXlkn7TbRaER5qB4SIBYKTTDNSRY9L+//yzlXcHmqHSIY6lu6OT2rI0Rqp//T2Suuk6C6J1RgWAYawqLYklC6TuDz4t/htulvyrW6Xjy/8i4enTtqmmVPaBR20IYe6ZdVL9/ndK8urLbTgZGWr0RDCNC8hMt8cvPJr9LKVZ0WTSTvK1LI4XnEtHT1ATM6fbqao3a0b8vn0H4h7q0t6/bFbCbGFIWRiKO2G8pDo743UumqXWm0n+uwEYifT1LYokv3GzDRjzX3lVwoOHe22lcMaNsYnAOmAsdfkqScyZadc0yrqB4as7WaD3qdqSOHumtbpVve12C6qDnbutd7o7CaH3S82tlpjI/uop22Gduvk6mwnkNjYM6teCoYVgGhc2zVsDtWxJZjqZsIy0N3lioXSYb61LznNtinrtJz8i/u69kpk8QYK9ByWvPdQ9M9Q6RE4z16mkRF1dkrrqcrtIWHUBwTSAkbpH2g9s/2zuqbWWle752qivf15h0Fjt73/KWpa0PxrAyKJDBN1JE+ywrOvHv5DMfQ9L2HLaguhu2awEej917LjkHn9anKZGSS5eYCtKKflGEREPzv8mxH4SStTRYX3TZTchWiJcVyNObW2coeYE/9IqvKBrVYCubdEgObFlnpUz+htq4oOPXMnhRz4vUT5vWRl/42bru7bsjK5+oZQRwAikh8CZe34p2fsesr7JnoG0BdFXrZHq977d1uNomTeDNIERTO9XxzRJ1V1vltS1V0rX934i+Q2bJb92XVn1pbaBBAcOS/tf/y9JXr5KUjdcLVVvvd12zgME0zh/vi9RLmcnd2FL+WosJ5GwCaeuZqa5+Rh0WiFQ/a63SrD3gFUM6NTK7EO/sqxMaV9gcOS4hKfb7aKhQziSV66W1FVrBvW5A0C/75FuPW0bD/LPr7ebYhs2VuQ44k6bYr2U+vqnwxy9iROo1AFGOMssa8n3xPFWuq3bUfTXUVub3T/Z0Fa9b9KDN91TvWuvtcVp0iG5ZKFE06daSwhGN4JpnD8NuDSgzud7rV6yzHRtbdwrrTcgGFRaaq8l38Up33oI4jTUx0N2SvsDs1mJtIxJM9Rbdog7baqEbe12oXBSZKgBjADaJ/3Kq5J7cq1kf/HL3h9PpaT6A++SlB4m3nrDYDxDAINJg+qqtFS9407LUKdvuV7a/+c/ir91p0SaPCrhb94WD3j1fXts9YfeM2hPG0MDwTTOj57sn26Ld/KVDrQqLZWZOKEwxZvM9FDhThgn6dtuFG/2DHHr6yS/YZNk73+kfGqtXhx277X94WFLq4QHD9kFIrlm5aA9bwDoD3r4q4eImbvvk/wrm3p9PLF0kSSXL5H062+2Hkp6IIFRSPufCz/VAWOahKj91MfE37Jdun56r22xiVrbzjw+DG3Kt/VYp1KSuvEaq87E6EQwjfMPpnPZOLNZuoezyHVsSIsNH+NmZMjQ7LIzLiVeV5f1UmuwbBlqHbCRKRmy0ZUp9AQdFH9bk/UOenNn2X/P7h5q/rsCGGaiTFbCk6fiFVjaJ12kr2fplCTmzZHktVdKYvECcWtrBvOpAhgC9F7WrUpbgOxOnST+9p2SD0MJdSd1sbIviiTYu18kCCQ3fqx4OvG/vi7eZsO90qhDMI3zE0USnmyR8NiJuMy7B+2T7l4XwPCxIcedOMHKFx3dkRiE4m/ZJrmnnuv1OH/bLgn2H5LwxCkrZUrdcr2kVq+M/5tyfQAwzPivbpHsLx+117Woo7P7/dqSpBU4VW9/k6TvfIP1SQJAkQ4X0/3yjV/6a6tsyT39nE391gGuRdoi1/W9n9r7bHjhr7+X6sxRiGAaFWSmcxJlMr1XiRRLZDSDqb22nMoNOU4qKU6qUbxJE8WbP0fCtrZChjpXvgYik7H/xsHBQzad3Zs7W4LJk+yxTk0Vk9oBDJ8NFLmc3ezmX3hFpKtkVoS+jjU2SEpbYObNZj4EgDLd97EaGNfUSGLlMuup9vfsl2D/QQkPHYk/rq8z+bztro/CMM5mjx/HHupRhmAa5x9Mt3fEPSNB0PvjbjEz3UhmegjT8u3qd79NErNnWDWBv3WH5F98pdfjdLiGTrLUyZWZX/xSqt7yRkmuuUzc8WPFqasdlOcOABVVU3V22Y1v7sWXrZWlWyol7rixkn7TbfYjAPRJg2rPkeTKpeLNmi7Btp2Se3ad5I4cK0ss+a9utf5pf/N2SSxzLQERfzrJpdGAYBrnLwgkCnW1Uh8f09eLhCdOgvKWocymdKdT4k6ZLIkFcyVq7xR/19644qC0hzqbs6x1cOiIRLm8+Dt2i9vQEA+fGzdGnJoay3bHvykXCwBDTDYn+afW2oGhBdIlQxdT110hycsvi9dfFWdCAMBr0ERCzW99WLwFc203de6xpyzJVBSeOCntf/tlqf7w+6TqbW+yAbCUfI8OBNPoP5qRprd2WNBhZLo6y1vwvEhtjfibt4r/8qu9HhcePynhqWYJjxyTzPd+Kuk33CKJZYskdf3Vkpg5nf/eAIYkXePo79xjr2E9txd4s2dKYtECEW1/oZIKwHnQaj5n/Di7f0pdc4Ud1Om9UffO+nzeZjPonIb8tKmSvu0GkSq9R+ImaaQjmEZl7J6kj9S0vljY2yA8J1xwhlpXOViGuqsrHi6npfzFC4PSkv4gkLC5RaStXYI9e0WSiTijk/fFnTBWnOrq+KaUE1gAQ6VfWvsYn18fT9ztIblquaSuu5KWJAAVS65YKomF8yX/6hbxX9lkwbMJ43bI7CNPSLBnv6SuWGUtJY7HjfFIRzCN86PxcxDGwVVfZd4YljTLrAN48q+8KvnliyX35FrJPflsvP6sNJtTCKqzTzwrzrMvSP7JZ22neNX73iWJpQsty60rIQBg0Ok6rOZW2xEbHDvR/W59jbKKnMmT4vkeAFApTRwlk1LzwXdLbs7z0nGgsClA2+A0pj7ZLH7el87v/ECSl6+S9E3XDvYzxgAjmMb5cYpvnLCNuD3UqZRN+Y7mzZbgyDHxjh6XSEu7W1pF/KB8ensma3tbA31MNif+1u0iUWiPicY2idvURC81gEEVdnRKeKrF3qS4F7awP9abMS3eTkCvNIALHkrmSmLJQglbT9tg12DPPolOt8Ufz2YlbAkk/8LL1met67Vs/zQzhUYsgmmcP3qiRyxvzsw4Y7NwvqRvuV6y9z0s2V89JVHL6bLdrGW91CdPSfAv37B9rem33i6J+XOl6k23WdZHLzQAMBhsS8ELL8er/0oqbJyxYyR583VM8AbQP3uo11wm9f//35f2v/sHya9/Ja7gVHlfsg88amXf7pgxkr71BnHGjRnsp4wBQjCNylggTTQ90jiJhEgiIe7YMVaqlFiyQML2dgn2HYx7qTWo7iwJqjVbHYpE7e0SZbMS7N5nF5H8jKlWXunNmBr3UicTDPgBcEnpDthg+04R3T5R5DjiNtRLcvkScRrqBvPpARjmiiuv3PpaG0iWvOYKu4fKr33hzAFeGNpe6sw990ti7qz4fqi+jnVZIxDBNIBuusrBHTfGpt1WvfcuyT3yhORfeEVyTxdWzPTspdZfZ3OS+9XTVt6dX79BvKmTpPaTHxVvzizbSy0pgmkAl2jwmL4sHTsu/u69Z7JEUljd2FBvAxfd2trBe5IARgxNGrjTp8bDxjQhrdnpXL77Pik8fERyp5rFf9ubxBnTKF59nb1OEVCPLATTALppFjlyHCvdtmnfM6dL1JWVsKPDen6CA4fjLHUuFw8lK8rnJdKp38dPWDZILyhaBq49RXoDqwG6Zb8BYKAUpnj7e/eLv2nrmcy044g3d7Yk5s22wYlM8QbQXzQwTr/+ZvHmzxV/wybxd+yW8ODh+IN+IFHQJZ3//H8leeVqqf+zP4x323M/NKLwXxNArwtDVOiPT16xSpKrV0rqmsttOFnXd38s+XUvSagDyHr2UoehXUDCw0elfe9+ccc0SfUH32M3sKlbrregGgAGjB/Y4ERd7xd1Zco2T3iTJljljb6ukRUC0J9suOHEcZK69QY71Ms3txReg+JqvuDgYeuxtuq9hfPE00M9jBgE0zhPjp2kOclk31Oa9QUjl5PIylsG4/mhP3XfbCYSEnlRXJ7kOPFUynRa/M3brJc60Ey0XjBKvw+CQKLOLgkdxx4XtbVZj6I7fpyVj9sUXf1e4oYWQD+K8jkJDh2Np+rqtahIM9OzZog7dcpgPj0AI5jT1Cg1H/41iTo6rM0kOnREJCiUex8/aav6uu6+T6rf9474YK/0XgvDGsE0zo8T94Y42mvW16TmIJTwdLu4be3lq5QwIrjjx4uMHyfV06fa2ofM3feJv2GzZB9+XIL9B3t/Qi4vUa5VMnffa983usfamz1Lan/rw+JOnGBDOMTjIgKg/0SdGSvvtrV+pRxHEvPmSGLmtMF6agBGOq16qa2Rqje9Trypk6Xtr/6XtcV19083t0j2vockMX+2uI0NNleG+6CRgWAa50935OlbnydpUWHCM4H0SGMnp058PbCssu5XnDfbeqB1n6s7bbIEu/ZKaNmgXDyUrEj7hXQv9aGj9r2Re/JZcadMkuTypeLU1VjZE9O+AfSLfD7ePtCVLX+/TvIeP1acMU2D9cwAjIZ7Jd2KMm2KJLW1RPdPuwclOtkcPyCnr0/HJdixW/zp02wmjbh6f0VAPdwRTOP86FCqVDIOpvos89bAyZdIgyedVDgYzxEDTwPfVEqS118tyauvkMTyJdYL1Pl/vx2Xfje3lJdXqnxegm07LeD2t+8Wb8Y0qf0vH7W91vr5TPsG0B90MGKw74Dtdi2jZd5zZtlrDgAMJG1pc+vrpfoD77YEQvZn95/5YBBK9sHHJNi7X1I3XiOOp9We3DEPdwTT6De0So9sZb09OqQsoReNsZapTt14rZ2y6nANneIdnjhZHlQXe6nbO2x4We6ptXZ6G4WhDSrTz3U8rXqIf28AqFjet97EKFMyx8Fz7RDYKmGqquhRBDDwQ1yTCUlff7VIR6fkn18v4YlTllhQ4clm8Xfvs5WiicULbF0fhjeCaQAXRksnp00Rd+pk8WbPsJ75rn/7DxuykVv7QjyMrlQY2mCgoK1dOr/xXXEnTZToVIt48+dI9cQJIjVVuptrsL4aAMOcVkaFrafLD/L0kK4qbYMTtboKAAaatq8l5s8Rf/eeeMWobhgoBNM2oPX4SVsh6tTVijd3FlsGhjmCaQAXpPjCrxUJTiolbl2trdJyp0wUpyotwbET4m/eKlF7Z/lO6u4sdbvkN2yS8FSzuDXVFlwnViyx30v3MHJhAVARbTU6dUqi7Jmeabe+TrxpU0SS3O4AuIQ8V5KrV0jdH/2OnP7jv7J2tyJdLdr17R/FK0hXLBanaUw8kwjDElcXABcvlbIgOP3m19u079y8OdYT1PF/TkmQOySSCbsnWpowsimXuceessne/radkli+WGonT7T1Eq4G1MTSACoRRRLlfZEoLJ/zoCsdeUEBcKkUkgFOXZ0k5syU5JKF8fyY3fvOVOq1tYu/Y7dkn3xO0q+7Kd5ygmGJYBrnyYnL5HQ9Vl/Tl/WFobNLoq6u8qAJI17PDHKUSMQ90Loi4q23S3DwiOTXvmDll5GWYPaY+K5Dg8Ijx8T3XMn85Bc2JCh55Wq7sOguRjLUAM5PXPVStlFAr1e2hWIwnxeA0Ugr9qKaakmuWSlREEiwZ1/3gCGtoNG2uOx9D0vqqjUS1daw3WSYIpjG+dEbke49071LUXSQlPWEtHWwHmu08zzrg7bpuboa4tBR6Wg9LcGe/eJ3dMbrs0plc7arOjhy1DLUyeVLLBDXoNoGnBFMAzgfyWQ8i6G908oolQ4jC0+12BRdALjkHEfSb79D3OlTJffMOrtXLt4HBXsPWKtb+k23SXLpIkksmj/YzxYXgGAa58kRx3PjQPpssY1mpEvL6zC6e6ldJx6uMXlCnKE+dERyTzxrk7797bu6J1t2C0KJujK22iZzzwPizZkpqbY28SZNFG/hPDLUAF6TZnW0eqqs9zDvW9WUZaz1GsXrCIBBWJdl60AXzJVgx654urfK5SRqDST/0kZxtKpvzix7/SJDPbwQTOP86P2H54ljNyl93YxEcUa6tLwOo5pdDOpqLaCuevfbJDp5ym5kg527rZ+6ONmym37/aDC9Z7+9efNmS5TJSnLVcvHmz2UXI4DX5rriaqlk4sytTZTNibSctqDaXmP0dYmAGsAlYomAqrR406dI9TveLF3f++mZYFr5gWS+/1MJjx2X1HVXxb3TKYLp4YRgGsDAXkQ0G+Q6IrU1krr2Cgl1DUQqJeHho5J7fr1lo6V0L2yBlmZqr7WWROkNsjt9miSWLCBDDaBvqaS4UyeJbD8zNdc2B+RzEhw6LM6YRnF1yOFgPkcAo47et7hNTZJ6wy02dCzUNaG79na3RYYtp8V/ZZO0/+O/Sc373mlrtey+ifudYYFgGsDA0ouBE5d8p665QsL2DnHGjbFSb3/nHusXslU2PQbXRc0tkn9+vYTNreKkU5K6crUkFs+PV3FxgQHQg6M90+PH2Wq+MkEowYmT4ja3WDANAJeavi4lZs2QxIJ5Euw/ZLNiJJeP731yOQmOHJP8M89LcO2V4o4bY/dJ3OkMDwTT6B+66qgrY8NemOaN16IrtBKzZ9r+V/n4ByQ4cEiyjz5pk751qnfP7x/tsc49+0Kcwa6qEm/2DEksWUhADaCMU1MticuWifvM8+UfiELx12+wYFtfOwBgsKTferskli2W/MZNEp1sju9t9GWqpVXy616Szm99X5JbtkvtZz7e58BfDD0E0+i//Z7ZXNyfRjCN1+CkkvGk7kkTxJs2WfztcQ91cPCwhMdOxIOCSugFxm9ptZNbp7pKUr5vN8RRFBFQA+im6xs18+M2NYokE3GftAojW0Fj2wEAYJDXZcm0KVL1ltslv2695Ne9fOaDUST+5m0ivi+5Ky6ThG5FmTJpMJ8uzgPBNCrKKOoQBRvg0pMG0Pl8PFSKYBrnQwfa1dba1O7qD/+aBdTZ+x+R8Ohxu/HtuWItOHpMck+tte8v3T/tTp0i3sxpBNQAYnpQN22KOE2N4lRVSZRvP3ODun2XraaxHmpXp+XyugFgcCpoXNeV9JteJ1FXl+Rf2RSXexcEu/dK1N4h+WdfsPtud8J4Ec/lXmcII5jG+dF/xMmEZRVtKEIvkUR+3k7TgPOe9l1dLZ6+TZ4U908fjndN+zpAqEcwHTW3iq/9042N4i2YJ0ndZz1zGhlqADF7TamS5LLF9lqSffjx7mtSePykBLv3WRml7nJ1xjQN9rMFMFoV5sBYxV0yJV0/uNta3YrCU6ek4yv/V6LTp61vOrFymR0WYmhi9jrOmw6B0tP+vjPTui8vH+8OJjONC6DZ5qo732hv6Zuvl8SyRX1Osgx27ZHMj38uucefkWDbznjlFoBRTw/V9JBOJ3p7C3SdXsm1KgwlOt0m/ubtErV1DObTBDDK2WuVrsuaNV2S11xu07vdiePPPCAI4x7qzdsl9+w6y2BHPVrgMHQQTOP8/+Enk/FbX1lA7ZnO+/ZmPy+8AefLbaiX5JqVkly9wgJpb8b0PodvaBl4/vkXra/I+qxPt/H9BqBbYt4cSV1xWdm+6eK6vexTa+MNArxmABhkiflzpeotb5TUDddYxUyZMLKe6q7v/zTOWlP5OWRR5o3KaFBdWytOXZ1EnZ3dpbjaKx3sO2DBdnD4mLi6WnhMI5MIUTF3yiSpuutO8V/dbKexweGjloHupjfAoUj+5Y02BTP9xlukqq5OnNoa22UNYHTzpk+xdiR38gQJj56w/kMVtrRI/tl1ErzjTvHmzRGnjtcLAIPM86T6Q++RxLzZcYLg8NEzE77bO+x9XT/6uSSvWCXpG68Z7GeLPhBMozKalU4XBpFluiyoMUFgp/5h4ykJm1viwKapYZCfLIZrhtpduVS0Uch76VVrIQh27C7voY4iCQ4ekfBksyTmzLSbZFcPbmqq7cP0UAOjl1NdLa7OVpg8SaKubHcwra1I4YlT1j+t2WlPr1O8VAAYRHq/kpg13VrWkssWSa6jU6JMNk4c+IFEHV3iv7LJthFEV62J5xf11W6JQcN/DVTGKdyo6E2I26Mfrb1dgsNHJPvLx6yf1dZkARfImzFNat7/Tknffpt482ZbT3UZ35eos0uyTz8nHf/wb5Jbu05Ev+eC8sFlAEbpgJ9bb5DEwnm9tk7kN7xqrSK6fxoABp3rird4gdT+19+TxML5IqUtKvm8ZB94RPLPrLM2t+6VfxgyCKZReZl3MTPtuL0GkFlJys54bzD9HbgYbkODJJcvkcTCueJOnihOQ0P5QDLNVPu+BPsPSm7tCxLsPWBl4XzfAdDNE8nLV8WzF3rwN26R/PPr45vSkL5pAINI72uKA8kmT7SBZKlrryy739FWSn//Qck+9pSEbW2D+nTRG8E0KpNIWHCTXLpInOqq3h/Xcu+29risjuEuuBh6HXFdSSxeIHWf+Q1J33Gb7Y/V1Tel9HvN1uA88rh0fPXrlnUCMMrptWr+HPGmTBRJpcpuTP09+8XfutP6EiMO3wAMATbgVwexahLhsmXlM4fCUMJjxyX/wsu2jSDSalDusYcMgmlURteOjB8XZwr72nmnp/yZbFzizT90XAy9+dUhQmObJLlquU3odRsbrM2gjE6R7+yyzHR+/SsSHjoqUTbLGglgtF+rJk2UxJKFkr7hGnEK8xSU9ib6u/ZI7rEnbXAmAAwVqVuvl6q33W732qXJA73HydzzgFXjRe2dg/ocUY5gGhXRADp13VWSft1NcUBdV1vWOx0FvoTNzTYQivI59ItkSpzGBkldtUZqf/9Tkn79zSLJZK9958GhI5Jfv1GyD/1KMj+6x/ZRAxjF6xw9V9xpUyR59eXlh3C6FquzU3Lr1ltVCwAMFU5VlbhNjbYi1B03tsecmE4J9uy3gBpDB8E0LuC0f4J406bY1GWnpqq8j1VvUnQKoQ0fI5jGxdMbYieVEnfieEmuXCqJ2TPE1VVY2rtfSks2TzXb6a2/ZYdN+tY+Iy2HAjA6ebOmS+q2G+OD3xJazZJ7/FkJ9h+QKGTnNIChcgjoiVNfL6mr14g3ZdKZD9p0b1/8LdvE316yLhSDjtVYqIz+Q6+pFnfsGBvuov0duSeelaitPf649nFoUJPJUOaNfqUXF29uSlI3XSeROJJ/7gXJPfZUr8flN2wSf89ecRrrxUmnxZs5XZxxYwblOQMYXJrh0deBxIql1jYS7NobfyCXF3/nHslv3CKJlzdaFsh6qwFgkLkNdVL1ljdKsOeA5F/aaBO9TRRZ37Sux6p6+x2D/TRRQGYalZ+a6cj+VFLccWPiEpTSIQkaP+tAF92NF4QMSUC/cZIJcWtrrTJCh5J5UyeLaOlmsvxMMDrdJuHBI7aHOjh42Mqi9HuQ70Ng9NHrlQ7LTMyfLd70aWc+oK8H2ay1h/hbd7AFAMDQkUjYvY47YawdCJa2tQVHj0t45LhILsdsmCGCzDQujOtaVtoGQnnemYJuDZ47uyRsb5fwVLOV52qGsKwUHLgIGkRbtsnV++HI1tz4Gzb1elzu8acl2L5Taj79cUnrIA/ts06UHPwAGB1cV9Kvu9ky1Pq6UEpfPzK+L+k33CxOTc2gPUUAKLvHbmwUb9YMSSxZILln14nk4pa1cP9BCSZNkLCl1e7ByxJaGBRkpnFhbCdeVTxp0O0RKGuPamHCMuXe6G+6i1EnfLtTJtvqG3fiOKuU6DmQLDxxSvzd+yQ8dkLC1tNnyqQAjC6OYysdraJl5rSytY66bsbfvM0y1HpzCgBDogrUccSdMsk2ElhFaImoq0v8bbskPF1oscSgIjONC6LZaG/aZCszsYxfD7qayHrTgkDc8T1KwYF+YDfG06ZY9UN4/KSER45Z4FwUdXTa92HuybW2RkIzT4mF8wb1OQMYpBvTcWPtxtSbMU3C9g4bWFh8ndDFE9oSokPKrKQSAIYAfT1yp0/tdQ8d5fK2iSCaWdK6gkFDZhoXxnXEqa3ttRqrKPIDO+WP9NSMFVkYAG5NtXgTxounGWodMtbQUN5OUKiQCI8eE3/3Xgnb2q2/iN5pYHTSybhVv/YO8aZOKXu/Tv3P/PgXknv6+UF7bgDQkzdtqiR1eGLPzHSnZqZ32IwYDD6CaVwYzxNXe1enTRWnr8y0lqC8ukX8HbssOw30Ow2cPVeSV6+Rms/+pqSuuUKkKl3eF62TL1/ZJNkHHpFgx26JtIyTcm9gVHLq6yS5fIm4E8bFLUpFQSD5TVvsNSJsbpGIYWQAhgCnoU68yRNtAKuUdlTm81aRZ6toMegIpnFhtGwunbbeM9v32zOg9n0JT56Kb0wK2UAyguj3YFq/D+vr4r3nk8bbyjbr5S9hvfstrTYQT98ibU0AMOpoJVVi8XxxJ00Ut77+zAfCUIJtO8XftUfC4yc4cAMwJLj1dfHhnwbTJVWgkVbdnTglkuV+ZiggmMaF0SCmrkbcpgZxNZDRxfIlZShRR5fk128Qf9PWeAgZJ/0YIE5tjQ0hS665TKreert4c2aVP0APc7I5yb/4smTuf0TCo8cH66kCGOwDuFRK0rfdIOm33l7ehxiE4m/fKZ3f+J4EJbMXAGBQua61qLhNTWfel8tJeORofH+NQUcwjQsf6KKnZLr7d0yTvWnJbbcwkKijQyLtUz3dZtlBpnpjINj3obYdjBtjgXT3TsbS/ukotFPcYP/BOFPN/nNg1E7I1dcJm5Crpd4lAXXU3Cr+xs0SnWqxm1ReIwAMBU5NrYhWgRbpPUxXxuYTYfARTOOiaKl3cvUKSa5ZUV5eG4QStXXYCX/+pY3ib9sZD4QCBojeHGtmWqd8a7a6bGBHGEl+42bJPfqkBEeOxZUS3CgDo1JyxRJJXXO5OHrwVnKDqj2IubUvSHDgkIQtDPYBMAQU2tmc6urud2lCIOzsFAmo+hwKCKZxcTQjOGG8uBMm9F5/pcFKV8aygTpRmWAaA0l7962/SHdQjx9n+6jL6CmuVkpo/3RzC32RwGi+bo1tkqq73ly+Lk+vWX4guafW2hsAAOdCMI2LDmCSq5dLyjLTPYIXPek/1SzZXzwY7/rNc4KGgaGlm5aJrkrbzXH65mvFmzq57DFathm2npb8q1sl//xL9nMAo7M1RLM8yZVLxZs8qfwgOIpsqnegmyjyecsAAQBwNgTTuDiOK25dnTiNDdY37TTUl/Wq2sTBk8022Ttqbo53/VJei4EKqLUcamyTeLp3Wnegl9Jvu7DQO33wMCslgFFMXx/Sb369JFYsEUdnfpRMys0+9Zxkf/W0HQYzLRcA8FoIpnFxPFec8WNtNVFy1XJJLlts01K7ZbNW5u1v3yW5F162aamUe2MgJRbMk9RtN4k7fWrvD4ah+Ju2SO7p52zYEIBRSg/eUqn49eLGa8qH++hqxxMnJfvLx+zgDQAGU9TVVbbWU6tr3B4DFDF4CKbRL1O9dRCZZgO96VPFSfT4x61TB9s7xN+2S4L9h2w4mfWmkaHGANDyTR0s5DbUx9np0kFk+m3XetoGDdm03sIOdACj8NrleeLNmi6pyy+za1g3rWBpOW2HboGun/F9XicADI4ossndug6rW+G+W1/DMPgIptEvdHpy+rYbJXXzdfG6kR6Co8cl86N7JPfY0/ELQsiNCQaG01gv3tRJ8eHOnFni1NeW90MeOCT+1u0StrTGJZxUSgCjllZT6c5pd9J4cWpKpuU2t0jm3gcl//x68Xfs5nUCwOAF0y0tEnV0nnmfBtF1deXJAgwagmn0D88TZ+wYcSeME3fihEIPWsmeX+2dbjkt4cmTEhw4LIH2UA/m88WI3iOrp7a6b1qHkDk1NeUP0rVted92yYbHT4jkmOoNjFqppLgNdZK8bLkdvnXT4LkrI/7mbZJ/7gW7hlFNBeBSsnuVTFaizoxEpfcqiYS4Y8dYqwoGH8E0+kcyId7MadZ/Zr3TixeIJJJnPq5TUU+ckGDXXsk++az4m7Zy0o8B5c2eIckrV4s7fmz5B2z9jS/+rj22ezrq6BispwhgkGmZpFNVJelbb5TEiqXlH9T99Otelsx9j1iZJZO9AVxK2ietbZKWlS7tmU4lxZsySaSPSlBcetQHoF8nKes/bA2oRRxxXt4oUekg1Ehsmre/eXt8mqb9qsUJzCUTwIH+4DQ1xJnp6jOlm92iyCb1hkePl5/2Ahh9EglrU9JrUv75F+OhY4Vp/8HhIxJlc5K5+15Jrlphh8UAcCmEh49aW5rObShlc4pmTBW3tkflHQYFmWn0K7e+TlKvu6n3dNQCLavN3veQ5J5/0W5Q9OYFGAg6YV4zTbqyrZcwlGDvAfG3bC/vQwIw6uhhrjum0QZoJpcvsRkg3XJ5iU6flvz6DeLv2SdRZxcZagCXRHj6tASHj/a+V04m4qq7Pu6zcekRTKN/JTy7KdHeaW/qFHHHjyvbOy1+IFFnp/WrBnv2SXjsxGA+W4xgmpF2mxpsAJkNFiqdehlGtv88OHysbN0EgFHKdSWxZIHU/JePWkWLrn0s0gC66/t3S+7xZyQ4dMTaRABgoIWHjoq/cUvvzHR1tXiL5tvWEgw+gmn0Lx2KMGVS3K+6fIkk5s+xALublna3tVsZXW7ti/GUVIa6YAA49XU2DE8PdHQ4nlN6ghuFEuw7IP7WHRJ1dA3m0wQw2IrtRvV1kpg7W1LXXSXJNZeVP0bnLLyySbr+4wcSnmqNZ35w7QIwEPS1JQjtXtl/dUvZAZ5uzNGkVWLWDHFqS7aVYNAQTGNApinrBOXEiiXiaf+017s1X9cS5V/aaAPJtNybPZ4YkKneOth7bJN40yaXD+rQfdP6fdfZKWFzi/VP69RMAKOX7W0dN0aSyxZJYvH8eO1MsbJKW0MOHpLcs+skPHpMwnbaQwAMDG0lsfuTEyfjapggLE8UNDXa1pyyJAEGDcE0BoT+Y0/dfL0kr1otTrKPYPrYcck9/LjkX9oQl30zBAoDwXHEmzxJEn2VQ3V1SXS6TcIjRyU4dJhybwAm/dY7pOpdb7NpuZoFKgqPn7RD4M5v/0Cyv3yE9Y4ABoS2ltjmm83bbFBq6fabxKoVkrhs2aA+P5QjmMaAcGwHXlMcyMyfI+60KeV7pwu903rill/7ggS79gzm08UI5o4bK97M6b33TRdOf+3k9/Ax9k0DMBpAa990+q23izdr+pnsdGGtXv6FlyX/4isSHjxsK7MAoD9FXV22li84cqy8ncRxrGomsVC35mCoIJjGwNBJg5Mm2I1I8rJlce+026N3ur3Dyrwz9z8i+Q2b6T9D/9MpvVMmSWLhfKuW6CWMbFJmsHe/RNl4FQ6AUd4iUrh+Vb/jTvHmzhZJlVRXRZH4L220YFp31YdaWRVFtCkB6L8S7/ZOya97SUINpku5riQXL7B7GgwdBNMY2N7p+jpJXrlGEssWx70dbvm3XNjaasMV7G3TNgtsuClBf4p7pqfEE717ikKJmlslPHFKJE9mGkBMXy8SSxdJ+vbbpOrtbxZJJss+rmv12v7sbyX/3Is2cwEALpbe/+q9cP7ZddYGWbrxxmlqlMSiBZJYvMCq7TB0EExjQLmN9ZK64WpJrl5pw116BtMayNgp//oNkn95o00uBPqT7mLU6fJlu2N7rMjSnqSIYBpAgeO64lSlJbFgrk32dseNKRtiqOXdwb6D8f7plzaK5H32TwO4cJpI0iHeO3dLftNW65su3S+tqz61xNuprxcnlYyHrGJIIJjGwPI8cRrqLTOYvPEaSa5c2iugVuGhw5J98FdxH9rR4xK2tZOhRv99DyaT4tbWiFNXW76qTSK7KY46OsumZQKASl2+Sqre+ibrUdT5C910A8Xp05L54c+k8+v/aTNAdBYIAFwIu+UNAsk9uVZyDz1WNnRMudOmSvoNt4jb2DBozxF9I5jGwA8i02B6+hRJXX+1JJYvseCmJx1Eln34V1bWEhw7Yf3UioAaF8NaDXS9jZ7i1lTHfdP66yI9CM4UgmmySgB6ch2rsKr93G9J1e23iqM3siUHwsHRE+Jv3CId/+ebVl0FABciPHlKck88K/6WbRIcPHLmA64r3oypkly+WFI3Xdv3/BcMKoJpXBKanU5duVqSV6yyfg+b7l1aoqJZwXzeekW6vv1DyT211l5YrMwF6A/6/VY6UV7p4KBsNs5OE0wD6Ot1I52S5MplNvvDmzfbft0tk7FrlfZO+zt2S3DilERUuQA4TzbAUIeOtZ6W/IZNcUKp9N5Xg+lZM+K3yROtxBtDS+8FwMAAcHXJvJZ4R5FN9g72JiU8fMQyg0Yz0Hlf/B27bBWAZhQTK5eJO9aRqDA4iv4QXBQNpDWj1PP7KJuLJ3kTTAPoi1a4jGmS9O23Wrl36+f+1DYAaKm30sqW3GNPWdVV2NwiNR/+tbilBADOh++Lv3uPdH3zuxLoXukSOry3+oPvlsSyJYP29PDaCKZxSbmTJ0rVO94s+ZdeleDQYbsJidrazzwgl5eovV1ya1+wHrTkquXx8Jcpk8SbNGEwnzpGpEgiPy+Sy7GaDUCfige5Nv9j9kxJ3/E68V/eaCWZ3XQK79bt9lqSWr3C1kJ6U6cM3pMGMDyEod3z5l94xapc9D64yBk7xnbe2wTvKRMH9Wni7AimcUm5Y8dI6oZr7KQ/+8DDEjpOeTCtkwu7AvE3bbUstQbbegOTTKckmjCuLKtIphoXTeNnP4gDaoJpAK/BramRKJ2W1I3XiuN5knvuRauoKla1hPsPSe7EKcm/usWy1O6kiVYNw7UKQF+iMLJ7EP/FDTZ7IWqL5wWVbiPRak5dheU2NQ7a88RrI5jGpeW54lRXSWLBPKn5yPutPyTzs/vjMttMtjyozkW2diQ8cVL8y5ZLYvliG2CW0J41HSLVxyAzoCJOYdq3py+F3PACOAfXlfSNV4s3foyEp9sk+9BjFkR3y2Sl40v/HE/dHdMo3vRpZSu1AKAoamuT8PgJ6frJLyTYtbf8g54r6dfdJNXveVvfqz0xZBBM45Lv7pRUysq2UzdfJ5Ej4jzypH0sKg2mNUvoB9aXpm+aoQ7b222Sqjd9qp30R4WJqpz648I54nhufDDDtxGAc7DrTTptWef09VdLsGef+Jmc3RCbKJKwpVX8bTtt3WPVW24Xd/IEkSR7YQGUCw8dkfwLL8cDd7tKho7pjvuF8yx55E6ZLOKSPBrKCKYxKBy7GZlgE77lMx8X/5VXJfvAo/Gaoq5Mr8f7e/dbFiA8cUpyTz8v6RuulsSyRXHZSw0ndrhAem9bUxOvmqDSAcB58iZNFO+tt1uftB4EhydPimjJpsrpZoqt0nnsuE0ATzbUidOYjA+JCaiBUa+49jW/ZbtlpaOW1rIhqG5drWWlbYPAxPGD+ExxPgimMSicZEKcZJ3IrBmSTupNRii5Z9fZjYZlqHv0r0anWiQ41WL91f7OPeJNGGeZAQ3KNUtAXxoujCNOKmXfR1Y1AQDn3SLiStV73i6JFUuk7fDROLtUmAGih8K6maLz374lyStWS+2nP04FDIBYNmuJIR1imH/xlbLKTKepUby5s6X6fe8QdwKB9HBAMI1Bpf3T7tTJkr7lBguO/ZdflexjT1nJXHjkWK/Hh62nxenKSNePfy65Z56X1C03SHLpQvEWzrcAGwCAAVc4vNXrVyIMJXnZMhs8FnR0xhkmfcvmxN+yQ5xU2voh3SkTxW2oH+xnDmAQRb4vYXunzQTS14XodFvZx73pUySxYK6406bYYT+GPoJpDCpH+8j0TfuoJ4wXx3HF37nbBpBpSXf3TUnZTuCc+Ju3SbBzt7jjx4lTlRZ34gSJGutFdJCU7hOmlxoAMMD0+qOTduv+6+9Kx1e/Ll2Hjohoq1KhuirYtcfWPXZ8pVaqP/AuSV21ZrCfMoBBpNUrwf6D0vX1/5TwVHOvj1fd8QZJ3XB1XHnJfeywQDCNoUED6vo6SV69RryZ0+yEP//8evvRf2VTfGNSWvqd9yUKQsk+9qTkX9oo/qtbxJs7S9I3Xy/erBn2+4nHixAAYODYMMyErsGaIOnbbrTguuvbP5SovaP7mhW2tknuybXizZhm70tefpk4upECwKijLY26V1orLaPSndKNDZKYO0sSly0Tb+E8C6RJCg0PvJpjSIgnKrviTZlkb9pbFnV2xVNRNVOtLzj6Vgyo9UfNXh84LOHBI7Y2IGxrl8SiBbbL2qmvlUiS9FIDAAaU7px2GuolsXSRSDIh2V8+IkEYiHQUpvNmsxLs3iv5jZvPPK66ioAaGEWiILDeaH/TNsk/tz7uky5WXjqOuBpML18i3uwZDB0bZnglx5CkWeaqsU2SWLJAUrdeL7nHn5X8s89LqAvte077jiLxt2yXYN8BCY8cF3fyRKl68+vFmzvTyu+c2trB+jIAAKOEXm/cieOk5iMfsOxT9r6Hyj6efeARyb+0wdbdePPnSGLm9EF7rgAuLS3pzj38hGQffULy616yhFCR01AniVXLpe7znxV33NhBfZ6oHME0hiRXVxXpWzol7pgmCQ8dtR5pHYUa+kH8IlTSSx1puUzracn7vrgHDkli8Xxx9HObmiTS/Xw6sbnQS00Pyiila2v0e6bHpHj7fmCSN4D+qLBKpyV51WobMhTs3iP+ngMimcIBcC4nUXOLZO59UNI3XmurHfWw1z4PwIhdg6X/7nXYWPbBx6yisjSQ1vuP1DVXSkrbP3Tda5LQbLjhvxiGNLvZqKmR6vfeJambr5PcY0/bgnt/+04JDx/t9Xjd1Re0d0jXN78nmcYGSd96o3izptu+PiubIWgatcLT7RIePyXin+lRsp6kulpxdHhdgj3TAC6Olm7bkLEwlGDHLglPNkuYLax71P91dErmp/fa0M3EiqXiVaUlcpO0IwEjdZ90FNmaPH/LNsne97BE+fJ7EA2eU7fdIMlVK8StrRnMp4sLRDCNIc3WAiSTNrhFB7xoAK2lMmFLvHM60puUvH/mE/TneV+CPfssq+1NmWyPSa5YGu8TrquJJ3579FKPmgtZMSutF7BcrtdjnFQ8TV4cDloA9A/tfaz9/GdtBY7/yqsS7N0ffyCMJGptk+xDv5Lg0BGp//PPizdtil2vAIwwuoGmvU06//HfbFhupPcgJdVx2tKYXL5E0rfeIN7UKYP6VHHhCKYxPKalasCTSNi01OSVqyW/9kXrk84++qT9KL5fXr6rwVM2J7mnnxPnpQ0SbNsh7pTJluHWHX6601pSycH8snCp5PN2oBKVrlgrzUzX1orbWC8OmWkA/cSpqRYvNUlSl6/UYz0JjhyND3sL6x519aPuoNZAWw/5EgvnaxcTbUjASFCoRAlPnBR/01bxt++yw7Pu+9RCVVxi7mxJXnO59Uk71VWD/axxgQimMSw4Wp7tijj6gjN2jN2IRGEk3nYtoztlS+9tMqL2oZRkI7XsO2prEz+ZEFdLwDU7oPcqVWlxqqvjF69C6TeZ6hEqCM/cxPbk6K7zRCEzzX9/AP13zYqSSan+4LslsXShTe8NW1tF9DpVmPMRtLVL5ze+J6kbr5HaeXNsKrhdnwAMe3qAn391q3R89WsWTGs1ZbdEQrzZMyV1y/VS85H3xetcMWwRTGNYSixZGO/jmztTgkNHJfuz+2wndXjkmPWklQlCCbQ8/MQpaf/SP9tAs/QbbrbS8dTrb7J1BPrChpEp6uy0fY5W5t1TsWe6od7WsQFAf3Lq6iSxYL7Ufu63pOtH94i//pW4ckqFofgbN9uPuoUifct1lHoCI4D2RWfueUByTz0n/sYtEnUV1uSpqrTN8Kn97U/Ea/L0/pPD/GGNCALDjmaQda90pGV0uvqqvk78ebMtiPb9QELNCOj6LC39LsrlJcrl4/VZzS3i7ZhpvSve4vm2z1oDbJugmE6ToR5hdKqu7nm1DHUvOvyj0DPNcDoA/ciuJdqiNK5JUtdcLvlXXpXw4GEJjx7vrqDSGSD+nn2Sf+5FSSyYK059fXzAx3UIGJa0SlIP8G1Y7pZtEp1qLvu4O36seHNmSfKKVXF5Nwf5wx7BNIY1d/w4C4RrPvHrErV3SPb+hyW/bYfkHn9GQu1P6RlA+b6V12V/+aiVeOeefFbcyZOk6p1vEW/qJEkuX8ogmBFGvy/CUy3x4I+edCuWTfNuIDMNYEDoRgqd3F3zgXdJYvECaf/bv+8u91bhgUPS9Z0fWoVM6uQpSb/hVhGPYBoYjvwdu2wWQtcP7paoubX8g54r1XfdKek33BJXoTCrZUQgmMawZSf3mk1OeOJNGC/RmCbx5s62PpVgj/ZGOxKdbI4nflsvdeETwzDusdZycP15R6etMJGuOEOtWQG3GFx5HhmC4S4I4+x0z/3SxrGLG/+dAQwUe21xHMtGpTzPdkzrDXewe9+ZBwWhDczUOR/e9Km2icIdN2YwnzaACuh9hlaaaJVJ9qHH43vMkvsOZ0yjrc1LrllpU7zZKjNyEExjZHDjcrrUzddK6urLJXX5Kpue2vXN74q/Y7eEJ1t698wGQbxmq/W0dPzz12yis+758+bMlOp3v03cMY3ijB9HLwsA4KJ5UydbW1Lq+qviPdT7D5W1I/kvb7Tpv0n9eMITp6Eu/oCu7dNDPwZlAkN3DWcuL+GBw5J/8RXJPv50+SpOzxN37BhJ3Xy9zfzR1wKMHATTGP4KNxe2VaS2VqLqalt/5eiQhwXz7EbET+6XqKPDMtLiB2c+V8vANXOpQXUmE++n1qEwukpr/DjxglCcqqr4poap3wCAi6DzPqo/+n4bOKY5q/wzz9vcDhNGEh4+Ju1/8/9I1V13SOqWG+zd7oRxkpg90z6XdhRg6AXSOqcn2L1XTv/pf4u3xmQyZ6ohRSR5+WXWI139gXfZPSVGFoJpjDyOI+60eJd03e9/2gLozL0Pir97n2QfesxKv/saRqUvhjoR3N+2U3LPr7eTw/Qbb7HScf3RhlQx9RsAcBErszQ7nVgwT9K3XC/B/oPxFgo96C1WTJ04JfmXX+0++HWaGsWfNsWqrjSw1hkPHOoCQ2WfdCT+5q2S37A5HnKr/5aLgbQOOK2tkeSVqyW1ZiXDBUcoIgOMOPZClUhIpGU148bGU7/nzrYy8ODAIQmPnZDw2HGRbC7OCBR7WgplOlHet8nfmuvWEnG9ofFnTLM+anfShHgfoO6p5gURAHABEssXizdvtuRf2ii+44hfDKbtOpST/FPP2ZtJJsWtrZG6v/i8JFevlERjg2XDuAYBQ6C8Owgl++CvJPfU2rJJ/UoDaW/aFKl6+x2S1DVYGJEIpjGy6VqSZEKqbr/Npjmnb7pegqPHpOs7P7KMgL95W9lUVaMvhPm8hEeO2p5AnfacffhxSSxdKNXvebsF1BaccyMDALgQOvSwukpqP/Uxya19QTq/8jUJTpzsfT1SOtiorV06vvoNSa5aLnV/9DkbTmZl3wAGjWaic/c/IrmHHxd/+67yQafplJV213zkfdamwaaYkYtgGiNW96m9/lhdZYF1nFlOSHLZYhswpiV1UWubZasjHVBWups6DEW6MhKGkcjho+LUVNueUFtnII449bWW+bbhMK5DlgAAcF70eqHVU978OZJo75DEyqUSrd8g4fET5XM9lGW/Agl27RUnkZD8SxskuXKZOKmkVWFx7QEGoU+6pTUOpp9fL8HBwxK1tZ95gOtKYs4sW4WXWLEkLu8uzN3ByEMwjdHDda3fTE/0vU9/TKK2Dsk//Zz4e/dL5ns/lfBks4TNLXEQXSqbtZ623PETNqXRmzVDktddKcnLlkv6za8XJ522YWcAAFRCb7JTa1aI9xf/P2n7i/8puWfX2UDMPuVy4m/dIW1//NdS918/J1V3vE6csWOokgIutVBX2T1vpd2Zn97b68N6T1j72U9IYvkSW3WHkY1gGqNu16cG1Xq6HzmuuDOmSSKRsFKc8PhJ8Xfutt2Aup6kbEiZBti6kzrvS3jyVJwh0D628eMsQLfp4dXVVnZHlmCI0f92umdcKwz6VPi+AIBLqHitiNJpcSdOkOpfu0sSyxZL5ns/lvBUi0TtHb0/KfBtnWP2voesP7Pmtz4sUlNt1zQAAy/UjPTR45K5+764VbAHb8FcSSxZIInLlos3ZSL3hKMAr74YvarS1n8mK5ZI6tor4xfHe+6TYPc+ydz3sJV498pS6wvpsROSO/mM5Ne9LJl7H5bUVaul6q1vFG/ObHsBxdBiA+UyOYn6+G9ptPRK95RzvQMwCCwQ1gz1NVfYyiz/hZfE16nAR49LlM2JhEF8uKvl3noomMnY4LKwtc0GG+mBrtTH6xu5cQcGcNiYH8SJl607JK/l3YeOnHmA/ttLJSUxd7akrlwj3sxpNnMHIx/BNEat7qnftqqkVlzft/4Wp75eUq2nrezb9k7r1O+OzjOfaC+ovkRdXRaA6U7B/AsvS9jcKlEmI+74seJNHB/3spEtGFy6taKzy3qbtESyF42hq6tsP7m47G8FMIjXo7FNkmxskMZ//X/jKd8bN0v24SckPHrMbtqjzs7uiimb83G6XU7/0V9J1ZtfZ3upnaYxIglex4AB4fvi79wjmR/9XLq+9T2rHrGqtwKtTExdf5VVmKRvv1UkTfvfaMGdPmCniSlxJ46XqjtvtyA5fduNdvLY+e/ftjVaWtbdK0udz0vUmpf8upckv36DeLNnSGLRfEnfeoOk33ir7RLVNwymyAb6+Lv3StTRu2RSB4JYmf7USXaiDACDxQYUOTrcst6yW3bQV19vbUcaTGcf+pVlxXSOhx7q6oaKYNceyT2zzj4vfftt4o5pYso3MACl3frvUPuj8+vWS9hyujyQbmq0FVh67+fNnytOVdWgPl9cWgTTGPXKpn7rzUxUJe7YMeLNnC6pG6+R8PBRydfVStRyWoJDh+PMQMmLaHc/tfbR7D9oGQVde6Kf7+l+6rFN4jY0xGXElOBdcvrfRf8bRlq2X0r/W2v1QF2dOA314pDRATDY9BrhOVYiqm+pqy+3cm5d6aiVUvlMViINppVO+N5/0NZm+Vu3S2L+XJH5c8TV7RUalHO9AS6+tDsMrQ3Q37JdOr/2HdsAo8mUUropJrFkoVS9407b/ILRxYnsOwVAUfc/ieI6koOHJffwr8TftF0yP7vfMte9ArMivXlJp2ySY/rm6yR1wzWSvPwySS5bEvflshrhkoqCQDr+5z9K9v6Hxd9/0A5EuunQn6YGafo//68kr7483vuq/40AYIi9jmmJqR7UahVU+5f+OR5OVmxd8fRgUHs1Z0lyzUqp+dj7xZs3Oz7EBXDBdOBs9olnJfvzX9q/P12FZTMMipFTVdpWpNb93n+R5FVrJLFogf175CBrdCEzDZwjU+021Iu3YL5IVZWkMxk7oQy27ZKwoyPuxS2lAbgOvIoi8fceEKl6SaJMVsKjJ6wMXE8vrXQvlRqUr21U7YDsytibrjuzlWc6yKfIceKKgQnjLaiOyysH8xkDQN8cz7PZHt7c2TZQMXXVGslv2moVN5Yhs2qprGWudfd09slnJZXzbcuEO2XSmU0WAM7JhpVqImXvAQue88+ss6ndWgVSVpWYTos3aaIkVq+0eTtaiUggPTqRmQbOwf6JaHCWyUh4skX8lzdK5vt327RVf8Oms3+i3cCIuNOniTdlkpX/pG+8WtzJk8RtaryUX8Ko/G8WHjoqwYmT0vF3/1uy9z9S/gDPs3Vo3qzpUve5T1qvu+EiCGAoX4u6uuwmv/3v/49kH3ki3kldehunL2GeJ9XvvUuSV66xYUhOMkFVFHCedBZB2NElnf/0b5J/4RXJPf50n49zp02V1LVXSO0ffNr6pbW8m0B6dCIzDZxD96m+7pWurxVv1gxJ3XqDePsOWG+1DSjbu98yBmV9NBaEi0RtbRI6juSfe9Ey2YmlC+2F15s+VZzGxvgkkxudfhccOGRD5GziZk+uI97kifbfUsu0CKIBDIdrUZRKizt9qlR/4J222rHz3/9DwhOnJDrdFj9I4+ogkOzjz9jrn79jl93wJ1cus7VbmuUG0Fuk07o3bJb85m2Se/LZeP3ciVO9HqcD/rSyreazn5DkkoXiTZ0sjrb3cR8xahFMA+dLh1U1NkhC35YtkmD/IUm8tEHya1+U7D33S9jeIVGPoRQqam6VQN8OHLSMQfp1N0ly+RJJv+EWSSyuth5rsgb9z9+8VbIPPS7hwZI9kEVaMjlvjiRXLhWHPZAAhgkdlKhbIvQaopO7c08/Z9smAlvXmOk+xA0PHLLJ39pm5CST4qTTktC5EHW18YAkBpQBEunedt3M0tkp4el2yW/YZKtOc48+GR/E+/6ZB+u/mZpqa51IzJkpqWuvZJc0DME0cJ7Kbjy057ahThLzZtv7naqUZaf9bTvtJFN3gPaifTg602zPPol0d3UQiPfqZkkuX2q91O64MaxT6I9eae2Rbj0twe599ncdtreXP6iqKq4wmD5FvJkz+DsHMOw4Y5rsYLfx778o2V8+Kpmf/EJyTz0X76IuymbF37RV/O07pfMb/ynV73+npK5cYwe6VpFDlhqjXS5nu6OzDz4muSeekfzz6+0Aqqw3uiidltTN10v6jbdI1VveGK8+5d8QCKaBC6d7BRP6tmCuJG+6VvLPrrMXZP+VTX0H01p+F4Xib94usnm75F/eKG5jg9R8+NckuWqFBXUEdhcvOHLM9krrgB4dGtKTW1cjztgm2+OaWDxfxOViCGAYlny7rpWcJi9bZm1I+nN/1x7xN24W0Yxb91DMvE3/1n3UwaGj4m/dKYnVy608NbFwnlXq0GqE0UIrCKOOLlsnp+1gWt3hb98dt+tlMvFAvyJNoiQSklyxRLz5c2yXu97zObW18QYQqjtAMA1cuOKLaKQvqFpCN3eWyK03iqcDx+bMkkBvajQL3ZmxDEEvOmk6iiT35Frx9+yX5L4DNqhMS8htQJneHHGDc97ilWVZO8zIPbvOLpJ9lncvmi+JObMss+M4TPEGMIyvQalkPElYd0zncuI8/6IdJopm1/ygu+xbt0z46zfYAaNmsKvf+RZJrFgi7uQJ4qSr7HqjQYO+HhIgYGTui45E/DiQ1q0seriUf2WTZO970P59lA3yU3r/lUyIq20VV66W1HVXSfr2W61tAijFNG/gIvX8JxQeOmKTvrP3PSTZBx6Nh8P0XKHVk+dJ6oarxZszU6o/+B5JzJ8TT4bUmxuc3/Tuk80SnmqWzn/5hmR+/PP4hDnXo4c9kZCaT3xIkmsuk9T1V4k3aUL8fm4eAQz3FpeOTnsd1LLurm98V/IbNkuo63xKFQZqahbbqamxoWSpa66wQ9z0Ha8TV9+fTg/WlwEMCG390hkCmbvvs4x0bu0L9u9FV2ZGnV19fk5ixVJJLl0o1R96j3gzp9vAWdHVptwvoAfu1IGL1POFVftoErpv8ObrrYzO37Jd/J17Jdi9V8Ijx3qffqowlGDPfnvB1wDanTrZdonqHmTt7aX8++z0Qhh2dUl+7QuSW/eS+Bu3SJTt3fPkThxvGX/N4iSWLIwHj3FRBDAC2OwOfU1zXUk4jvV2upMmWg+oXnf0oDGe21FY9djWbq+dWtGTr0pL2NxibUi6N1dneHizZ4pTlRYnlRrsLw2oTOF7PDzdZu0NWqUWHD5qe6Jzz70YD+c7dORMK0QpHTA2psk2rtgh04K5cXKjoZ77MJwVmWlgANcs6Fv+ybUW5OUefcJWLVg/ztn+2WnSoL5OnIYGqfmND0pi4XxJXXO5TREvexhBYHdFQHSqRYKTp6TrW9+Xrh/8zC6euou1jONY5kXXkdX+7n+R1JWrB+dJA8BAs5LWUILjp6TrP39k+6h1QnGf7UZFGoxrOeuyxZJcs1KqP/guC8a59mAo6zOE0fcFoWWg/V17JfvTe+M1cVu2v/Zv5rq2dk5XzlXd8XpJ33ajuOPHDthzx8hBMA0MkEizAHpDo6egR45J/tUtNl1aA+pg74F47ULPoE+lCmtMViwVb+J4SV61xsqRtWfHTkdrasTx6KXW8vng2HHxX3lV8us32kA3/Tu20u7SdRbptO2ArHr32yS5eoWkb7xGPK0cAICRSrPP+bwNwwwOHJbg4CErcdU1WhpYWJa6J53/oWXedbWWmdPS1tRVq60FyZ06JT7oJZjGUGtvOH3a2hv0XsvfsTv+nt+yw+4PwpZWibTVrlCF0YsO32uoj0u6ly+2SfdWxTZhvLhjGumPxnmhzBsYIDY8TEvuZs+UaNYMK5sLT57SD8Srsboyfb+45/IS5fKSf/o5yadSdmGwfp0Z08TTHaNVVRK58Q1N923NKLjB6dWb3twi/vZdknviWcnc+1Bc2p3N9fo8DaSdujo7bU7fcr2VcAHAiKaZ5lTKqnF084Q7fUo8z0MzzclEPMtDA4zW02cqpYJAIi2NPd1m153w6HH7mFNdLd7JZrsOxQe61TZ/gsAa/XJd15YsPdwJQolC/XkU3wcVEhLFj+s60biyr/BYHRqmB0a6DvPESQn2HYzXkx49Lv6WbbY3us9qDL1/SiTFbay3ewNv1nRJrl4piZVLJXn5ZcyrQcXITAOX6vRUh1xkMraWJDh0RPIvvmwv/vkNm+KbFr/vaZK2g7qh3rKq7sQJkrruSnHHj5PEovnW01YcKDPShZ2dErWctr4nK9/audfKtoJ9B6zfXAK/fKWFZvhTSUnddpMkli6W9OtvksTCuZb150IJYLTovs0rDilrbrEhjbr5IHv/I5bB7jNTrWxieEq8cWMl/dY32oGkXouccWPZNoH+uTfS7LFu42htk7Cj03alh4eP2Y/2/Vrs729plbC93SbVR+2dEmrm+cSp+H0agJd8n7+m6mq7r9J90bryquptbxInlRZJeN33UhwUoRLcUQKXajhMbY0Nt0hdfbmdsGovmr8tLkWKmlviU9geQ7P0Bic8fNTKxIODh8UdN8YyrTr125s1o7DOxOu+eIykC0DZOZ9ecLsyEpw4Zfujs7981ALoYNvOs36+BtJaEq/9f2lbWTZVXN0NCQCjSPd1QX+sqrLriJazJlcuk+Q1V4i/aasdSubXv2LrBTXb162wp1oD8NzjT4u/c7d4kyfZWi19TU3MnR1nv0fRwe5oYFlgP4gnXutuNf1fR0d3djjSw2v7eKG6Lgot6LVDGQ1sdZezJgh0RZt9OJCorUOiXC7OOmvwXJyknc1KpGvccrn4c3TejAbP+vO8Hx/26Puy+fj31eeg79ffo7gC7hysfaGxQZJXrLI2r6S20c2cJq4eCulgMXat4yKQmQYupeLQrDCKg+SWVvG1l/rwUck9tTburz5wqO9VDVpWV5UWb95sm0qdXL7ETldTN1xjvT3W06aB9QhhJ9JaunX4WHyzd/iI+Nt2SXj8hPX/2TTa1rben6iZ51QqzkSvWh5P5Jw7O76YpplMCwDdQzI7u6xVRiuksr/4pc3ysFJvDVL6ylZriWwqJalrr5DEkkU2zDGh16KG+nhtkFb96EwP7b8msO7HHckl/y2KP4+K9xSFrGwxMdvXYwsBcXHS9ZnP17Lp4kPCwoei7iA2am7t/rywpaU7SNZWNA2KdQOJPSAI49aBYsm2BsgaLGvW2L7XAmtzK1boha1tcea5r2t4f9DAWO+H9PswlbJBYt6UyVJ11x2SWLTAZtHErXh8j+LiEUwDg70fWS9ArW3S9R/fl/zGLTZQK2zWNSav8U8zmbS1W3qyWvPR99uwGM0U6E1OaWZgWNzMFA8YSn5umejmVvF37bFS7tyDv7Ld3f7Gza/9exUm0jq1tVLzyY9I1Ztu6y6TBwCcYbd/lnmON09o5jGvmyeeeV6yd99v67S0IqhPSQ2aE+IkEzawyVYJaQn4iqU23yMxbzaZvn6i2dzw2Mkz1WpayeYXsrVaSZDNSahbLLTfOO9LcOJkdwActbQUeosL2V7N/mq2uVAJF5w4UbjXiCRqbY8/brNHSoLvotIgvWdJtX0rlQTmvT5fDwSi3sH/QIQgqaS4E8bZCszE7FmSuvlay0Zbz78eqGuAXWz1Gg73SBjyCKaBQWT//PT0Np+3Kat6cpt7dp2VdOtKLQu0dYBGr15qx4bCaLbVmzdHvAnjbHCGO2Wy9VTbxO+GYTJ51U7dI+t7Cnbvs8E3+Y2b42ndO3db9l4z93oDoD1TZ2NB88TxcSZ6+RIrYfRmzxBHsyVM5ASAcw6CCvbut4nI+efWS3DosAQ7dltLTdjWZgFZX/Q6pNVR3qIFcTvNuDHxj40N8fCzSRNsqJOrB536NpJejzVgDbUNqSsObrUkOV8ogc5k4lJlHexWyOTa9Vzp+4oHFTpcS99fGLhlJc/Fzyk+Vodp2R8XWkbX5oPo++3P8uNKgsJgLushLmSYLRNc+vtZuXSue31a/NhCGXcmEz+2dBvGUKNVD64XB8WplP1o32d6P1Sn34dN9j3mTptsmeh4vsw8e787dsxgP3uMUPRMA4PIgt2qtJVvu5ctiy/EjhP3A2/dEZdBWe9Sj+FkevHW4FJLoY+dEL+pwS7M3oK5kli8QNwwspuXSC88mq098wcOmR5oYyfVYXzj0dZufXu6FzL36JMSaDn3jt3nPrnWMi3HtYulZuq1Jyp907XxTVt19cB+UQAwUq5FiYQk9HB27mxJXXeV+Dv3SO7BRyV738MS7dlvr9FlZcIFeh0K9O3A4fgd2n/aWC+JObMkMX+OJK5cLd6kifb6bGsJ62ov4HrUn9eu6Dx+vx7XndKMa+lPi1OoTzZLqD287e1xH7HN+DgZb+3Qkuf2jnhKevFAOJOVoJht1kC3uTkuq9ZgNhP3AuuQrRGr5397+2XJ+87ctJS9TweIigXQ9eI0NIjb0CDe/LniTRgr3vQp4i2aL+748Tahe1gkEzAikJkGhhDtddI+Yb2Ianmz9gfbsC1dabJ9l12g+5RMiju2Kd6XOGdWXHKnvdRTJ9tKKOulHuThMPZSUzgVDw8etp4pHcBmmecdu+Ng+tARu+nQ6ebFG5Cz0kyH7kNdOF+SixdIYtkim3Cu5e+6I1LLEB1v5PSQA8Al7dHV1+q29nhq8rETklv7guRfftUGP+rcirLtCT1Zr2oynmGhq4a0LFyvU5pFrNU91pMta22DOc9CB0PZIEk9FL3Uly49M7CMbyY+uNY+8uJKSw2Y9f0tbd2ZZ7u2FVc5FYZw2ceKf5fFoLs4ZLRwPSz+3N5fPKgolkOfbcL6cGOrqBJx1lgrxdJV4tTXxv9967SKrj7eslH8tT5Gv0+qiu/Tg/Eq+96xPmg9rClkqO37TLPUOlNGr/k6CE9LuJNJgmlcMmSmgSFEe8y8iRMkGh/alEkLNHXtk+dJePCIhIVyrV7ZAZ22quu1jp2QYO8BScyaIc7YJknkclbiZL3UWlpnWdyBzVSXnc/pzUBxyImVssX9Wlq2beXc6zdIePSY5F98Je7n0szHa/4FFQ4EPFdcHSg2doz15iWvWi2JZYstqAYAXDgLQvQgUg8sLbCpF3fSRImC0FqIgonj432+GmC2no6zrVpuXBr8WRlzYAfApe05oWYWq6ssQO/eWX2256HBlF63dNryIATTum7RMsR6bdLMsvYTd+mvO+L3a+l1ceDWcKD/XbWPXQ82iu/S/x5FxYnWJR+3IFXfV7xX0OC1+PHi9bg4dK5wD2N/RslBtgW42seshycaNOubBs36o17HtVJBS7b1v7e2qOmP2qZmAba+r/bM+0qfCzBEkJkGhqA4i6vDRPK2V1lvVvI6mOzIMck++CvrrQ6Pn+y9SktpsKw3QZMnWkBu2VpdBXHFKrsh0rI7pxBUD1gwrb1huVzcB956WoLtu+LJ5Vu3x/shdYBKJms/6tRPmwhaWMVxVnoyXV9v08yTK5eKN3umJBbOs/48W2+hfVL1df3+9QDAaNbrNtH3bY2Wv2mb5J5fL7knnpHwZHP3GiQMUZqt1aB1bKP9Uiu33MmT4iDa9okn46BVM8CFj1v1gFYYFAZ22SH2uLHxxwuBd3GSu71PM8kaEOuvCwPodKZL8eMXYyi0qwF9ITMNDEF2YbOyuIQFw5rR1YucDibTGxhlJ+U6SKRnP7WWjGn2d+eeeP3W8ZOSWDg3zuJqdnjShPj31oujnVSXBNYlAfa5SqS6J8GWlaXpKX089EQHstiqrxMn44MALRN84WWbGKvlg+c1xbN4yp3wxK2rs2EiOlQsuXqFJBbMs0FjdjDA1FgAGBA9rwWR50li/lxxJ06QxMplUnXnGyRsbrUBkrqHWg99g9174/LovtY8Ii571sPfwvXLdh1rsFu47jvJlDg1VWeyw/UlWdnCUE0Lci1TnDxTLu+51ktcXPukgW2xBLp4PbXPU8WZLdaMfOZ62z0grhBg60wSu87ac4lXTRUeED9//fMLmWnLSBfeur9vNIAnAMYIRmYaGAa0F0uDUMvmHjhsWQBdX6I9xrlHnogDa53E2ZNeGNN6Ua4RZ/xYu3jHU68niDdnZjy0a8I4K7ezEiztTdJeJivFeu2dzLYrW/u7bfDMIesp09K/qLlF/N374t5nXcuhpd2n2+KdlPrjeZbF6c2D9n57M6ZKYvVK64XWTLRTXx/3h2sfnj5fvUZzoQaAQZuFoa/t/tYd4r+yKZ4IvmmLhKdaJWxtjSuV9HW/sILLeq11tdNrrX8caooHzcXDW6cQrBZLp4s7iwu/7n6/Pq7QmmRVY8WAWMuexzTFv4cGnhoMp+LrblzanraZIEazv2Ob4t9Lg2W9nhdKoC1Q1s8prH/U+Sg2tdqejxeXRmuwe47rOYALR2YaGAb0AqxBpNTViTdmjN246EoL7TWyvdSep0sw4kC1dH2JBuHas6aDy06ekkDLuHSd1vSpFpzboK62duuv1gyCBdTZbByo6oX6bKXgxbUax09YoKw3Txrg642Uvk9vqnRwTa+s+Vm/wGLvVWG4iA0raYx3ac+dLclVy8SbPk0SSxdxwg0AQ4m+Xo8dI6mrL5fUlavjIFmvDy2t1pLkb95mlUk6z8OuFSdOia+Za10nVVz/NMTZNVEDUm2h0kFaGtDasKxq+5iVMmuAq7/WXnBtS9LrqWaRNTAeM0ZEVzdZf7AOx+rR+1s6zbr47rKPl173Cpnks/36rJ8HYCCQmQaGk8I/V12foTcqujor2HfQyupyjz4RZ6qfe9F6rfs89S+ckNuptpZ/6UVdT7UL0y/tlLs4TESD2upCUK2/LpZxaUV3R6eIDmPRcm7NOmiw7ucLQ1rycWlfcVDa+dyI6en5mCZJLllou6J1mJjtKp09K+7/bmqMy9H0hoabAwAY8uKD3C4Jjp2IS741uNbrVkdXYRVUYRL22T5fV0Xpx7ODFHBr1lizujZAKxVvh0gl4uuiXi/1+qk/Wpl1dfd1tHu6tAbSCb2uevGgteLHSkugAQx7ZKaB4aTYz5xM2El4FDRZRsB61A4cjFeP7Nwd36xoQGvrOEpuVgqDzSI/3lF9zj9OS8/0xkEzxqXBdFt73K+tQXsl53HFEjftCbNeaC1RS4urJegTxtlwMW/qlHid19gmy0bb4wAAw4oFk5qh1bLjCxDqYa1eZ15rReJA0oPn2pp4JRMAnAWZaWAk7APVfuTmFpuK7W/ZIcGefZK972ErsdOyuooC3lLFXjArwy55v/U991jPdS46OVSnbjfUS3LZongg2pIFlnVOzJsTTxG1vrGUla9bAM/gEgAYlWxvc/egy0v8h3eXWhd2GgPAWZCZBkbCPtBqT7zqybbGwkrIqtLWp6ZZAS0F13K5M0Ng8ucfCOvNzIXs0NRyNy2R0xI3vRHRcrhUStwpkyx41gy0TuZOLlts5d26K9pK5AAAKK5eAoAhjsw0MNJO8jVo1t3N2pummeo9+yU8dMQGlQVHjsUTt7V/TSdrDwTPE2/mdHEa6yWxYK4Na0msWBYPFNP3F3qfz/SUefHgFjLQAAAAGEZIBQEj7SRfg1WdHtrYIKH2mlVVSVhfZwG0Dk7RQNvWVjW3xuXauqZEp34Xs9AlpXXx+4rnbSXnblr6Vlz3oX+mZsPdMxlo3QWtf75mnN2xYyWxeH6ckZ4+9cyOSwAAAGAYIzMNjGBRYZ+nTU3Vyar6c937rINdTrdZ5lpXWtmqrdbT9uuo5bREuWw8lVsHjen6Elt1Unip0PbpwiRwHRxma0GmTLLVXZqJdhobLAutQbXopHANtKur4nJ0nWZKBhoAAAAjAME0MApFmYxlqjWA1p2fGjSHGkS3ttr7RAPuXE7Cto5CMF2SoXac7p2bur5KA+s4mK6TxMJ58Y7N2sIAMQAAAGCEIpgGRvOUVM1cB0F5iXfQo8zbXiJKpqlqYtmJJ3w7fZR5FyeAk4EGAADASEYwDQAAAABAhdg7AAAAAABAhQimAQAAAACoEME0AAAAAAAVIpgGAAAAAKBCBNMAAAAAAFSIYBoAAAAAgAoRTAMAAAAAUCGCaQAAAAAAKkQwDQAAAABAhQimAQAAAACoEME0AAAAAAAVIpgGAAAAAKBCBNMAAAAAAFSIYBoAAAAAgAoRTAMAAAAAUCGCaQAAAAAAKkQwDQAAAABAhQimAQAAAACoEME0AAAAAAAVIpgGAAAAAKBCBNMAAAAAAFSIYBoAAAAAgAoRTAMAAAAAUCGCaQAAAAAAKkQwDQAAAABAhQimAQAAAACoEME0AAAAAAAVIpgGAAAAAKBCBNMAAAAAAFSIYBoAAAAAgAoRTAMAAAAAUCGCaQAAAAAAKkQwDQAAAABAhQimAQAAAACoEME0AAAAAAAVIpgGAAAAAKBCBNMAAAAAAFSIYBoAAAAAgAoRTAMAAAAAUCGCaQAAAAAAKkQwDQAAAABAhQimAQAAAACoEME0AAAAAAAVIpgGAAAAAKBCBNMAAAAAAFSIYBoAAAAAgAoRTAMAAAAAUCGCaQAAAAAAKkQwDQAAAABAhQimAQAAAACoEME0AAAAAAAVIpgGAAAAAKBCBNMAAAAAAFSIYBoAAAAAgAoRTAMAAAAAUCGCaQAAAAAAKkQwDQAAAABAhQimAQAAAACoEME0AAAAAAAVIpgGAAAAAKBCBNMAAAAAAFSIYBoAAAAAgAoRTAMAAAAAUCGCaQAAAAAAKkQwDQAAAABAhQimAQAAAACoEME0AAAAAAAVIpgGAAAAAKBCBNMAAAAAAFSIYBoAAAAAgAoRTAMAAAAAUCGCaQAAAAAAKkQwDQAAAABAhQimAQAAAACoEME0AAAAAAAVIpgGAAAAAKBCBNMAAAAAAFSIYBoAAAAAgAoRTAMAAAAAUCGCaQAAAAAAKkQwDQAAAABAhQimAQAAAACoEME0AAAAAAAVIpgGAAAAAKBCBNMAAAAAAFSIYBoAAAAAgAoRTAMAAAAAUCGCaQAAAAAAKkQwDQAAAABAhQimAQAAAACoEME0AAAAAAAVIpgGAAAAAKBCBNMAAAAAAFSIYBoAAAAAgAoRTAMAAAAAUCGCaQAAAAAAKkQwDQAAAABAhQimAQAAAACQyvx/iIbjLTAnlBsAAAAASUVORK5CYII=",
      "text/plain": [
       "<Figure size 1000x400 with 2 Axes>"
      ]
     },
     "metadata": {},
     "output_type": "display_data"
    }
   ],
   "source": [
    "# Load images again for visualization\n",
    "test_img_path = os.path.join(reference_dir, test_image_file)\n",
    "predicted_img_path = os.path.join(reference_dir, classify_by_radial_profile(test_image_file, reference_dir, reference_files, ntheta=360))\n",
    "\n",
    "test_img = cv2.imread(test_img_path)\n",
    "predicted_img = cv2.imread(predicted_img_path)\n",
    "\n",
    "# Convert BGR (OpenCV) to RGB (matplotlib)\n",
    "test_img_rgb = cv2.cvtColor(test_img, cv2.COLOR_BGR2RGB)\n",
    "predicted_img_rgb = cv2.cvtColor(predicted_img, cv2.COLOR_BGR2RGB)\n",
    "\n",
    "# Plot\n",
    "plt.figure(figsize=(10, 4))\n",
    "\n",
    "plt.subplot(1, 2, 1)\n",
    "plt.imshow(test_img_rgb)\n",
    "plt.title(\"Test Image\")\n",
    "plt.axis('off')\n",
    "\n",
    "plt.subplot(1, 2, 2)\n",
    "plt.imshow(predicted_img_rgb)\n",
    "plt.title(\"Predicted Match\")\n",
    "plt.axis('off')\n",
    "\n",
    "plt.tight_layout()\n",
    "plt.show()\n"
   ]
  },
  {
   "cell_type": "code",
   "execution_count": null,
   "metadata": {},
   "outputs": [],
   "source": []
  }
 ],
 "metadata": {
  "kernelspec": {
   "display_name": "Python 3",
   "language": "python",
   "name": "python3"
  },
  "language_info": {
   "codemirror_mode": {
    "name": "ipython",
    "version": 3
   },
   "file_extension": ".py",
   "mimetype": "text/x-python",
   "name": "python",
   "nbconvert_exporter": "python",
   "pygments_lexer": "ipython3",
   "version": "3.13.2"
  }
 },
 "nbformat": 4,
 "nbformat_minor": 2
}
